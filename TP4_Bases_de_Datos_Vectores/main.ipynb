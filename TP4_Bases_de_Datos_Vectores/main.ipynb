{
 "cells": [
  {
   "cell_type": "code",
   "execution_count": null,
   "metadata": {},
   "outputs": [
    {
     "name": "stderr",
     "output_type": "stream",
     "text": [
      "/Users/eMinus1db/Documents/Python_Labs/sandbox_ai/data_bases_ai/bases-datos-IA/venv-BDIA/lib/python3.11/site-packages/huggingface_hub/file_download.py:1132: FutureWarning: `resume_download` is deprecated and will be removed in version 1.0.0. Downloads always resume when possible. If you want to force a new download, use `force_download=True`.\n",
      "  warnings.warn(\n"
     ]
    },
    {
     "name": "stdout",
     "output_type": "stream",
     "text": [
      "listo\n"
     ]
    }
   ],
   "source": [
    "# 1️⃣ Importar librerías\n",
    "from sentence_transformers import SentenceTransformer\n",
    "import chromadb\n",
    "from chromadb.config import Settings\n",
    "import os\n",
    "import numpy as np\n",
    "import uuid\n",
    "\n",
    "# Modelo de embeddings\n",
    "# model_name = \"sentence-transformers/all-MiniLM-L6-v2\" Este modelo no esta entrenado para Español\n",
    "model_name = \"paraphrase-multilingual-MiniLM-L12-v2\"\n",
    "\n",
    "model = SentenceTransformer(model_name)\n",
    "\n",
    "def get_embeddings(text):\n",
    "    return model.encode(text).tolist()\n",
    "\n",
    "# Inicializar ChromaDB con persistencia\n",
    "client = chromadb.PersistentClient(path=\"./chroma_store\")\n",
    "collection = client.get_or_create_collection(name=\"documentos_ia\")\n",
    "\n",
    "def cargar_documentos():\n",
    "    docs_path = \"docs/\"\n",
    "    documentos = []\n",
    "    metadatos = []\n",
    "    ids = []\n",
    "\n",
    "    for filename in os.listdir(docs_path):\n",
    "        if filename.endswith(\".txt\"):\n",
    "            with open(os.path.join(docs_path, filename), 'r', encoding=\"utf-8\") as f:\n",
    "                text = f.read().strip()\n",
    "                chunks = [text[i:i+500] for i in range(0, len(text), 500)]\n",
    "                \n",
    "                for i, chunk in enumerate(chunks):\n",
    "                    documentos.append(chunk)\n",
    "                    metadatos.append({\"source\": filename})\n",
    "                    ids.append(str(uuid.uuid4()))  # ID único\n",
    "    \n",
    "    return documentos, metadatos, ids\n",
    "\n",
    "def crear_base_datos():\n",
    "    docs, metas, ids = cargar_documentos()\n",
    "    embeddings = [get_embeddings(d) for d in docs]\n",
    "    collection.add(documents=docs, embeddings=embeddings, metadatas=metas, ids=ids)\n",
    "    print(\"✅ Base de datos creada con éxito.\")\n",
    "\n",
    "# --- CRUD FUNCIONES ---\n",
    "\n",
    "def create_example(new_doc):\n",
    "    \"\"\"Añadir un documento nuevo\"\"\"\n",
    "    embedding = get_embeddings(new_doc)\n",
    "    doc_id = str(uuid.uuid4())\n",
    "    metadata = {\"source\": \"nuevo_documento.txt\"}\n",
    "    \n",
    "    collection.add(\n",
    "        documents=[new_doc],\n",
    "        embeddings=[embedding],\n",
    "        metadatas=[metadata],\n",
    "        ids=[doc_id]\n",
    "    )\n",
    "    print(f\"✅ Documento añadido con ID: {doc_id}\")\n",
    "\n",
    "def read_example(query):\n",
    "    \"\"\"Consultar documentos similares\"\"\"\n",
    "    query_emb = get_embeddings(query)\n",
    "    results = collection.query(\n",
    "        query_embeddings=[query_emb],\n",
    "        n_results=1\n",
    "    )\n",
    "    \n",
    "    if results[\"documents\"]:\n",
    "        print(f\"📄 Mejor coincidencia: {results['documents'][0][0]}\")\n",
    "        print(f\"📁 Fuente: {results['metadatas'][0][0]['source']}\")\n",
    "        print(f\"🆔 ID: {results['ids'][0][0]}\")\n",
    "    else:\n",
    "        print(\"⚠️ No se encontraron resultados.\")\n",
    "\n",
    "def get_documents_by_id(doc_id):\n",
    "    \"\"\"Obtener un documento por ID\"\"\"\n",
    "    results = collection.get(ids=[doc_id], include=[\"documents\", \"metadatas\", \"embeddings\"])\n",
    "    \n",
    "    if results[\"documents\"]:\n",
    "        print(f\"📄 Documento: {results['documents'][0]}\")\n",
    "        print(f\"📁 Fuente: {results['metadatas'][0]['source']}\")\n",
    "    else:\n",
    "        print(\"⚠️ Documento no encontrado.\")\n",
    "\n",
    "def update_example(old_id, new_text):\n",
    "    \"\"\"Actualizar un documento (eliminar y reinsertar)\"\"\"\n",
    "    collection.delete(ids=[old_id])\n",
    "    \n",
    "    new_id = str(uuid.uuid4())\n",
    "    embedding = get_embeddings(new_text)\n",
    "    metadata = {\"source\": \"documento_actualizado.txt\"}\n",
    "    \n",
    "    collection.add(\n",
    "        documents=[new_text],\n",
    "        embeddings=[embedding],\n",
    "        metadatas=[metadata],\n",
    "        ids=[new_id]\n",
    "    )\n",
    "    print(f\"♻️ Documento actualizado. Nuevo ID: {new_id}\")\n",
    "\n",
    "def delete_example(doc_id):\n",
    "    \"\"\"Eliminar por ID\"\"\"\n",
    "    collection.delete(ids=[doc_id])\n",
    "    print(f\"🗑️ Documento con ID '{doc_id}' eliminado.\")\n",
    "\n",
    "print('listo')"
   ]
  },
  {
   "cell_type": "code",
   "execution_count": 25,
   "id": "67e10bf5",
   "metadata": {},
   "outputs": [
    {
     "name": "stdout",
     "output_type": "stream",
     "text": [
      "✅ Base de datos creada con éxito.\n"
     ]
    }
   ],
   "source": [
    "crear_base_datos()"
   ]
  },
  {
   "cell_type": "code",
   "execution_count": 26,
   "id": "e32ac435",
   "metadata": {},
   "outputs": [
    {
     "data": {
      "text/plain": [
       "[-0.13363400101661682,\n",
       " 0.09824267774820328,\n",
       " -0.038939330726861954,\n",
       " -0.09957413375377655,\n",
       " -0.10088636726140976,\n",
       " -0.09350062161684036,\n",
       " -0.10539218783378601,\n",
       " 0.44167560338974,\n",
       " 0.3837745487689972,\n",
       " 0.11706008017063141,\n",
       " -0.16925598680973053,\n",
       " -0.03680584579706192,\n",
       " -0.06929896026849747,\n",
       " 0.16074343025684357,\n",
       " 0.06067797541618347,\n",
       " 0.1504400670528412,\n",
       " -0.13210487365722656,\n",
       " 0.007339669857174158,\n",
       " 0.004763266537338495,\n",
       " -0.2871944308280945,\n",
       " 0.13415353000164032,\n",
       " 0.05589154362678528,\n",
       " -0.05534923076629639,\n",
       " -0.14180582761764526,\n",
       " -0.208276629447937,\n",
       " 0.10395640879869461,\n",
       " 0.015970567241311073,\n",
       " -0.019185690209269524,\n",
       " 0.09457262605428696,\n",
       " -0.22653546929359436,\n",
       " 0.16219882667064667,\n",
       " 0.21008072793483734,\n",
       " 0.49164697527885437,\n",
       " -0.10322771966457367,\n",
       " -0.25187841057777405,\n",
       " 0.15674416720867157,\n",
       " -0.026113061234354973,\n",
       " 0.022394152358174324,\n",
       " -0.12019314616918564,\n",
       " 0.012447958812117577,\n",
       " -0.12207493931055069,\n",
       " -0.17883805930614471,\n",
       " 0.06515374034643173,\n",
       " -0.14968083798885345,\n",
       " 0.033834073692560196,\n",
       " -0.5603145360946655,\n",
       " -0.06952354311943054,\n",
       " -0.03675353154540062,\n",
       " 0.053571153432130814,\n",
       " -0.16000738739967346,\n",
       " -0.3102831542491913,\n",
       " -0.2764160633087158,\n",
       " 0.0747133120894432,\n",
       " -0.19073368608951569,\n",
       " -0.02953297644853592,\n",
       " 0.017710313200950623,\n",
       " 0.21743769943714142,\n",
       " 0.2159983217716217,\n",
       " 0.09887716919183731,\n",
       " -0.09007570147514343,\n",
       " 0.2266545444726944,\n",
       " -0.10074736922979355,\n",
       " 0.008249547332525253,\n",
       " 0.2690526843070984,\n",
       " -0.45241427421569824,\n",
       " -0.2848784923553467,\n",
       " -0.08438684046268463,\n",
       " 0.1246381625533104,\n",
       " 0.04720642417669296,\n",
       " -0.16698673367500305,\n",
       " -0.014825237914919853,\n",
       " -0.3094327449798584,\n",
       " -0.05870641767978668,\n",
       " 0.24872910976409912,\n",
       " -0.03759337589144707,\n",
       " -0.19236738979816437,\n",
       " 0.0868946760892868,\n",
       " 0.09680917859077454,\n",
       " 0.06460321694612503,\n",
       " -0.028070377185940742,\n",
       " 0.2927142083644867,\n",
       " -0.18731515109539032,\n",
       " -0.14875225722789764,\n",
       " -0.018367934972047806,\n",
       " -0.032440826296806335,\n",
       " 0.2676648795604706,\n",
       " 0.04316042736172676,\n",
       " 0.1769881248474121,\n",
       " 0.1156918928027153,\n",
       " -0.005252294708043337,\n",
       " 0.2222571223974228,\n",
       " -0.1541830599308014,\n",
       " 0.17192216217517853,\n",
       " -0.18733248114585876,\n",
       " 0.09494643658399582,\n",
       " 0.06355802714824677,\n",
       " 0.05421311780810356,\n",
       " -0.3313175141811371,\n",
       " -0.2769796550273895,\n",
       " 0.18279387056827545,\n",
       " -0.041828054934740067,\n",
       " 0.11228359490633011,\n",
       " 0.2964928448200226,\n",
       " 0.1621413677930832,\n",
       " 0.17810195684432983,\n",
       " 0.35582035779953003,\n",
       " 0.12344644218683243,\n",
       " 0.03501707687973976,\n",
       " -0.09987851977348328,\n",
       " 0.054323673248291016,\n",
       " 0.0674494132399559,\n",
       " -0.06280343979597092,\n",
       " -0.39031338691711426,\n",
       " 0.025806447491049767,\n",
       " 0.1547909826040268,\n",
       " 0.0892476812005043,\n",
       " -0.1274779886007309,\n",
       " -0.04085511341691017,\n",
       " -0.0946936085820198,\n",
       " 0.45766669511795044,\n",
       " -0.11448993533849716,\n",
       " -0.11115320771932602,\n",
       " 0.2505057156085968,\n",
       " 0.14869053661823273,\n",
       " 0.0374569334089756,\n",
       " 0.06383164972066879,\n",
       " 0.1861552745103836,\n",
       " -0.027273427695035934,\n",
       " -0.12390481680631638,\n",
       " -0.038649510592222214,\n",
       " 0.10775770246982574,\n",
       " 0.06905173510313034,\n",
       " 0.30532705783843994,\n",
       " 0.23117244243621826,\n",
       " 0.007672884967178106,\n",
       " 0.18619433045387268,\n",
       " -0.11869101226329803,\n",
       " -0.2718932032585144,\n",
       " -0.28142911195755005,\n",
       " 0.23397250473499298,\n",
       " -0.18316760659217834,\n",
       " 0.5620026588439941,\n",
       " 0.18000486493110657,\n",
       " 0.019464161247015,\n",
       " 0.18314598500728607,\n",
       " 0.025554897263646126,\n",
       " 0.25526416301727295,\n",
       " -0.46610814332962036,\n",
       " 0.2884666323661804,\n",
       " -0.10084013640880585,\n",
       " -0.19585199654102325,\n",
       " -0.03732720762491226,\n",
       " 0.25588124990463257,\n",
       " -0.006838497705757618,\n",
       " 0.49428942799568176,\n",
       " -0.20735713839530945,\n",
       " 0.2259514033794403,\n",
       " -0.023433296009898186,\n",
       " -0.31942635774612427,\n",
       " -0.17492401599884033,\n",
       " -0.015511912293732166,\n",
       " -0.02329111099243164,\n",
       " 0.23401206731796265,\n",
       " 0.40216732025146484,\n",
       " -0.07730820775032043,\n",
       " -0.13267099857330322,\n",
       " 0.06070179119706154,\n",
       " 0.05344558134675026,\n",
       " -0.16864509880542755,\n",
       " 0.28965604305267334,\n",
       " 0.03300779312849045,\n",
       " 0.0961037129163742,\n",
       " -0.09347899258136749,\n",
       " 0.03437868878245354,\n",
       " 0.49371349811553955,\n",
       " 0.22591406106948853,\n",
       " 0.10747374594211578,\n",
       " 0.07313382625579834,\n",
       " -0.2229064702987671,\n",
       " -0.04508855193853378,\n",
       " 0.0705726221203804,\n",
       " -0.005026983097195625,\n",
       " -0.16484422981739044,\n",
       " -0.0011084519792348146,\n",
       " -0.17934608459472656,\n",
       " -0.08137807995080948,\n",
       " -0.04274819418787956,\n",
       " 0.10291250795125961,\n",
       " 0.010614084079861641,\n",
       " 0.20096884667873383,\n",
       " -0.19131474196910858,\n",
       " -0.09563788026571274,\n",
       " 0.05712030082941055,\n",
       " -0.1291966289281845,\n",
       " 0.11886024475097656,\n",
       " -0.15885025262832642,\n",
       " 0.32569533586502075,\n",
       " -0.22353918850421906,\n",
       " -0.10609586536884308,\n",
       " -0.049743954092264175,\n",
       " -0.011869754642248154,\n",
       " 0.12790971994400024,\n",
       " -0.35289761424064636,\n",
       " -0.16621530055999756,\n",
       " -0.2969496250152588,\n",
       " 0.3440232574939728,\n",
       " 0.03161615878343582,\n",
       " 0.4984651207923889,\n",
       " -0.10688400268554688,\n",
       " 0.29787740111351013,\n",
       " 0.5797246694564819,\n",
       " -0.023255929350852966,\n",
       " -0.17411813139915466,\n",
       " 0.23518015444278717,\n",
       " 0.16421973705291748,\n",
       " 0.10802163928747177,\n",
       " -0.1540841907262802,\n",
       " 0.3507498502731323,\n",
       " -0.14784178137779236,\n",
       " 0.24126660823822021,\n",
       " 0.11366305500268936,\n",
       " 0.28617414832115173,\n",
       " 0.39579638838768005,\n",
       " -0.132143035531044,\n",
       " -0.22491511702537537,\n",
       " -0.13330870866775513,\n",
       " 0.06927476823329926,\n",
       " -0.06004880741238594,\n",
       " 0.13243113458156586,\n",
       " -0.1983063668012619,\n",
       " -0.3964158892631531,\n",
       " 0.1569417417049408,\n",
       " 0.027506034821271896,\n",
       " -0.4483410716056824,\n",
       " -0.1343519538640976,\n",
       " 0.0012989200185984373,\n",
       " 0.20103943347930908,\n",
       " -0.4387890696525574,\n",
       " -0.10035226494073868,\n",
       " -0.1135786697268486,\n",
       " -0.22569376230239868,\n",
       " -0.12815405428409576,\n",
       " -0.5140967965126038,\n",
       " 0.12240420281887054,\n",
       " 0.031177818775177002,\n",
       " 0.23212294280529022,\n",
       " -0.20848746597766876,\n",
       " -0.0047903163358569145,\n",
       " 0.13619683682918549,\n",
       " 0.2973781228065491,\n",
       " 0.1310099959373474,\n",
       " -0.07009050250053406,\n",
       " -0.08729244023561478,\n",
       " 0.008582294918596745,\n",
       " 0.010267323814332485,\n",
       " 0.04164964333176613,\n",
       " -0.20442835986614227,\n",
       " -0.004313295241445303,\n",
       " 0.16500775516033173,\n",
       " 0.16156801581382751,\n",
       " -0.27874067425727844,\n",
       " 0.20531721413135529,\n",
       " 0.20079317688941956,\n",
       " 0.25239086151123047,\n",
       " 0.2951807677745819,\n",
       " 0.08986063301563263,\n",
       " -0.34221911430358887,\n",
       " -0.3041570484638214,\n",
       " -0.37186360359191895,\n",
       " -0.22700442373752594,\n",
       " -0.2226938158273697,\n",
       " 0.07425479590892792,\n",
       " 0.16991348564624786,\n",
       " -0.11807907372713089,\n",
       " 0.032970134168863297,\n",
       " 0.06054437533020973,\n",
       " -0.09052624553442001,\n",
       " -0.13718466460704803,\n",
       " -0.10456908494234085,\n",
       " -0.08353843539953232,\n",
       " 0.2909058630466461,\n",
       " 0.23167714476585388,\n",
       " -0.3433574140071869,\n",
       " 0.2104804813861847,\n",
       " -0.42413148283958435,\n",
       " 0.10230109840631485,\n",
       " 0.10327666997909546,\n",
       " 0.026952112093567848,\n",
       " -0.21687529981136322,\n",
       " 0.17770802974700928,\n",
       " 0.19831982254981995,\n",
       " -0.09266790002584457,\n",
       " -0.13859382271766663,\n",
       " -0.245564267039299,\n",
       " 0.33127686381340027,\n",
       " 0.3843359351158142,\n",
       " -0.3436402380466461,\n",
       " 0.1524072140455246,\n",
       " -0.09863288700580597,\n",
       " -0.03106502816081047,\n",
       " -0.40150168538093567,\n",
       " -0.02993287704885006,\n",
       " -0.20621366798877716,\n",
       " -0.3242189586162567,\n",
       " -0.06852894276380539,\n",
       " -0.049010954797267914,\n",
       " 0.057444848120212555,\n",
       " 0.07173778116703033,\n",
       " -0.12528540194034576,\n",
       " 0.008629710413515568,\n",
       " 0.03373793885111809,\n",
       " -0.38345590233802795,\n",
       " 0.11150183528661728,\n",
       " -0.035064514726400375,\n",
       " 0.06744106113910675,\n",
       " 0.1317071169614792,\n",
       " -0.3207395076751709,\n",
       " 0.03749850019812584,\n",
       " -0.11721308529376984,\n",
       " 0.011109555140137672,\n",
       " -0.0757463276386261,\n",
       " -0.2796227037906647,\n",
       " -0.05394703522324562,\n",
       " -0.13394981622695923,\n",
       " 0.13032397627830505,\n",
       " 0.21058887243270874,\n",
       " -0.2630021572113037,\n",
       " -0.059498630464076996,\n",
       " -0.20788922905921936,\n",
       " -0.3864571154117584,\n",
       " -0.05312203988432884,\n",
       " -0.03319936245679855,\n",
       " -0.27094244956970215,\n",
       " 0.32876405119895935,\n",
       " 0.09372597187757492,\n",
       " -0.2785475552082062,\n",
       " 0.24884754419326782,\n",
       " 0.15725457668304443,\n",
       " 0.1232607364654541,\n",
       " -0.11634935438632965,\n",
       " 0.17751316726207733,\n",
       " -0.12080688774585724,\n",
       " -0.09316137433052063,\n",
       " 0.1173354834318161,\n",
       " 0.07753776758909225,\n",
       " -0.09665841609239578,\n",
       " -0.05290919914841652,\n",
       " 0.27437838912010193,\n",
       " 0.04367891699075699,\n",
       " -0.032116927206516266,\n",
       " 0.161403089761734,\n",
       " 0.2641407549381256,\n",
       " -0.3834216892719269,\n",
       " -0.17856930196285248,\n",
       " 0.22258174419403076,\n",
       " 0.024780364707112312,\n",
       " 0.25054922699928284,\n",
       " 0.1733061820268631,\n",
       " -0.30375832319259644,\n",
       " 0.11571767926216125,\n",
       " 0.24365675449371338,\n",
       " -0.10137230157852173,\n",
       " 0.2664251923561096,\n",
       " -0.17466333508491516,\n",
       " -0.2814263701438904,\n",
       " -0.13735564053058624,\n",
       " -0.03449637070298195,\n",
       " -0.16285963356494904,\n",
       " 0.13776430487632751,\n",
       " 0.3109281063079834,\n",
       " -0.3335154354572296,\n",
       " 0.061996884644031525,\n",
       " 0.2607366442680359,\n",
       " 0.07665956765413284,\n",
       " 0.2665405571460724,\n",
       " 0.13278038799762726,\n",
       " -0.0018089090008288622,\n",
       " -0.6661624908447266,\n",
       " -0.184798926115036,\n",
       " -0.029627429321408272,\n",
       " -0.10600689053535461,\n",
       " -0.3758419156074524,\n",
       " 0.22398291528224945,\n",
       " -0.19149170815944672]"
      ]
     },
     "execution_count": 26,
     "metadata": {},
     "output_type": "execute_result"
    }
   ],
   "source": [
    "get_embeddings(\"Reynaldo González es un ingeniero de software con 10 años de experiencia en desarrollo web y móvil.\")"
   ]
  },
  {
   "cell_type": "code",
   "execution_count": 27,
   "id": "7a621840",
   "metadata": {},
   "outputs": [],
   "source": [
    "results = collection.get(include=[\"embeddings\", \"documents\", \"metadatas\"])"
   ]
  },
  {
   "cell_type": "code",
   "execution_count": 28,
   "id": "586beebb",
   "metadata": {},
   "outputs": [
    {
     "name": "stdout",
     "output_type": "stream",
     "text": [
      "ID: a07dd390-09d9-4235-ab01-cc797272a28b, Contenido: El sol se alzaba sobre las colinas de Buenos Aires, pintando el cielo con tonos naranja y rosa. El a  Metadata: {'source': 'doc1.txt'} Embedding: [ 0.0520102  -0.04184369  0.03102789  0.03516814  0.00390169]...\n",
      "ID: 727d58d6-e5c9-489e-86f4-11d95b9e3bf8, Contenido: ciosa continuaba, con el tráfico constante y el murmullo de las conversaciones. Los turistas se mara  Metadata: {'source': 'doc1.txt'} Embedding: [ 0.06561408  0.00274146  0.01852137 -0.00384712 -0.08065522]...\n",
      "ID: 93c89342-60f8-44b8-ac20-db0e01be46e7, Contenido:  los restaurantes servían deliciosas parrilladas.\n",
      "\n",
      "Hacia el norte, el elegante barrio de Recoleta in  Metadata: {'source': 'doc1.txt'} Embedding: [ 0.06329247 -0.05760502  0.01019358  0.01427122 -0.11836312]...\n",
      "ID: b66e4266-d216-4bd7-a9e6-e6dde0e61152, Contenido: y novelas exploran la realidad, la fantasía y la condición humana con una prosa exquisita.\n",
      "\n",
      "El fútbo  Metadata: {'source': 'doc1.txt'} Embedding: [ 0.10750576  0.09395164 -0.03557041 -0.09082252  0.03738023]...\n",
      "ID: 922aa459-5ec9-461d-b2ab-68dddfe117b7, Contenido: territorio y sus influencias culturales.\n",
      "\n",
      "La ciencia y la tecnología también tienen un lugar importa  Metadata: {'source': 'doc1.txt'} Embedding: [ 0.04488853 -0.00289127 -0.01135199 -0.01349816 -0.09015581]...\n",
      "ID: f88605a1-f5a3-4b00-98ee-d9fa7b7811e4, Contenido: l cambio climático es un desafío global que también afecta a Argentina. Se están implementando medid  Metadata: {'source': 'doc1.txt'} Embedding: [ 0.02049509  0.01238592 -0.00077783  0.00771629  0.03962161]...\n",
      "ID: 56b13237-d211-47bb-8ef2-77599a5d9b0f, Contenido: datos vectoriales, en particular, permiten realizar búsquedas semánticas eficientes basadas en la si  Metadata: {'source': 'doc1.txt'} Embedding: [ 0.03103411 -0.03522629 -0.05147012 -0.07124252  0.03530231]...\n",
      "ID: 45aed722-c976-4f03-b264-5df7adce03cb, Contenido: ecialmente útil para buscar información relevante en grandes colecciones de datos.\n",
      "\n",
      "La consulta de u  Metadata: {'source': 'doc1.txt'} Embedding: [ 0.02917656 -0.0055369  -0.0540219  -0.05897567 -0.00178383]...\n",
      "ID: 57364637-f410-4177-8f24-87227a0571aa, Contenido: lenguaje natural (PNL) es un campo de la inteligencia artificial que se centra en la comprensión y g  Metadata: {'source': 'doc1.txt'} Embedding: [ 0.02340959 -0.03779537 -0.0018125  -0.07704737 -0.09288102]...\n",
      "ID: bf4f278d-b072-4700-b0d5-444ba52adf45, Contenido: datos que son significativamente diferentes del resto. Las bases de datos vectoriales pueden utiliza  Metadata: {'source': 'doc1.txt'} Embedding: [ 0.06885114 -0.03071466 -0.09953849 -0.09460168  0.01000777]...\n",
      "ID: 2016ed1b-e0ab-4ebf-8eb3-8f2f3eed1b3f, Contenido: e a las máquinas aprender de los datos sin ser programadas explícitamente. Los embeddings son una fo  Metadata: {'source': 'doc1.txt'} Embedding: [ 0.0349435  -0.03681715 -0.03211971 -0.06084803 -0.05544832]...\n",
      "ID: 8998b0c3-21a8-450b-ad8e-6c428068b880, Contenido:  la similitud entre dos vectores. En el contexto de los embeddings, un valor de coseno cercano a 1 i  Metadata: {'source': 'doc1.txt'} Embedding: [ 0.05549799 -0.02297312 -0.02858344 -0.06409739  0.04653566]...\n",
      "ID: a6e3b550-9154-4589-9fd6-192ae38411f1, Contenido: ales para acelerar la búsqueda de vecinos más cercanos.\n",
      "\n",
      "La evaluación de la calidad de los embeddin  Metadata: {'source': 'doc1.txt'} Embedding: [ 0.03291212 -0.00301016 -0.0743823  -0.02539252  0.0150786 ]...\n",
      "ID: 2510bbfd-e5e0-447e-a2ad-a851ba45ce85, Contenido: de modelos de embedding pre-entrenados puede mejorar su rendimiento en tareas específicas al adaptar  Metadata: {'source': 'doc1.txt'} Embedding: [ 0.01901471 -0.04162848 -0.03123193 -0.07216636  0.00039492]...\n",
      "ID: b0085745-e5ea-4207-9620-fdb59df2cea6, Contenido: dexación y consulta para manejar grandes volúmenes de embeddings.\n",
      "\n",
      "La seguridad y la privacidad son   Metadata: {'source': 'doc1.txt'} Embedding: [ 0.06543835 -0.04349266 -0.02825893 -0.0738173  -0.02333261]...\n",
      "ID: fe8f63b1-b010-441e-ae53-2111d5f0d6c4, Contenido: La ciudad de Córdoba, ubicada en el corazón de Argentina, es conocida por su rica historia colonial   Metadata: {'source': 'doc3.txt'} Embedding: [ 0.0786382  -0.02900862 -0.04892314  0.00720453 -0.03373531]...\n",
      "ID: e9c9fecd-8bde-4413-8fd2-92457bc30364, Contenido:  la capital del vino argentino. Sus viñedos y bodegas atraen a turistas de todo el mundo, y sus pais  Metadata: {'source': 'doc3.txt'} Embedding: [ 0.07349024 -0.00250827 -0.01722222  0.05280361 -0.01007232]...\n",
      "ID: 51883084-8ec1-4887-ba96-d772dfa4bb1a, Contenido: caudal y la belleza de su entorno selvático atraen a miles de visitantes cada año.\n",
      "\n",
      "La Antártida Arg  Metadata: {'source': 'doc3.txt'} Embedding: [ 0.04052084 -0.05012501  0.0289336  -0.00057229 -0.00935065]...\n",
      "ID: c8576df9-90fc-4ff5-a920-8112d8dc2468, Contenido: en crecimiento en Argentina, con investigaciones y desarrollos en áreas como la agricultura, la salu  Metadata: {'source': 'doc3.txt'} Embedding: [ 0.01547978 -0.09031271 -0.03343662 -0.11500843  0.00699658]...\n",
      "ID: 1cbd90b2-ff75-4949-907d-fb07a78b5bac, Contenido: visión, ha logrado importantes premios y reconocimiento a nivel mundial, destacándose por su calidad  Metadata: {'source': 'doc3.txt'} Embedding: [ 0.07657934  0.01272119  0.02012739 -0.06018547  0.0062403 ]...\n",
      "ID: 6ab0708a-30b6-47ff-ad85-15653ddbb1b9, Contenido: ersidad de sus regiones y sus tradiciones, con productos elaborados en cuero, madera, cerámica y tex  Metadata: {'source': 'doc3.txt'} Embedding: [ 0.06095297  0.03485835 -0.0402794  -0.01580971  0.03932931]...\n",
      "ID: 64802144-8b4e-4fef-bd56-11e66a2dfa2b, Contenido: tina, participando en iniciativas como el Mercosur para fortalecer los lazos económicos y políticos   Metadata: {'source': 'doc3.txt'} Embedding: [ 0.07967635  0.05276531 -0.00055471 -0.00890945  0.02638539]...\n",
      "ID: 341d8543-cc66-479f-8256-fa18ead0f326, Contenido: alimentaria es un desafío global que también preocupa a Argentina, un país con una importante produc  Metadata: {'source': 'doc3.txt'} Embedding: [-0.01633284 -0.03882172 -0.01507539 -0.01592263  0.00810904]...\n",
      "ID: 5da5a94a-7d58-4816-9cbe-2ec1f52c3615, Contenido: Las montañas de los Andes se alzan majestuosamente a lo largo de la frontera occidental de Argentina  Metadata: {'source': 'doc2.txt'} Embedding: [ 0.06295845 -0.00871849 -0.00378644 -0.00773651  0.01852077]...\n",
      "ID: c449e973-1f2c-49a6-b377-9c54ac2a2d3b, Contenido:  folklóricas se mantienen vivas en este paisaje declarado Patrimonio de la Humanidad por la UNESCO.\n",
      "  Metadata: {'source': 'doc2.txt'} Embedding: [ 0.06265805  0.07755854  0.00683773 -0.0011956   0.01103926]...\n",
      "ID: 4bef11ea-85a9-4fd4-a423-0e7c00ed215f, Contenido: iares, con el famoso Perito Moreno, atrae a visitantes de todo el mundo.\n",
      "\n",
      "La fauna argentina es dive  Metadata: {'source': 'doc2.txt'} Embedding: [0.04202385 0.01181271 0.0315096  0.0069503  0.02969406]...\n",
      "ID: 48c6a177-7630-4513-8bb6-46eb2b45fd3d, Contenido: ósiles.\n",
      "\n",
      "La exploración espacial es un campo en crecimiento en Argentina, con el desarrollo de satél  Metadata: {'source': 'doc2.txt'} Embedding: [ 0.05247662 -0.01419223 -0.02191135 -0.06355584  0.01437429]...\n",
      "ID: 7b13f18d-5a49-453b-93e8-8da4bb6c506a, Contenido: ma que busca garantizar el acceso a la atención médica a todos los ciudadanos. Se están implementand  Metadata: {'source': 'doc2.txt'} Embedding: [ 0.05963965  0.00050803 -0.00072486 -0.06244549 -0.00376394]...\n",
      "ID: ab9fd319-2694-4ce9-8445-92d86caeca83, Contenido: su cultura y su historia. Desde las Cataratas del Iguazú hasta las playas de Mar del Plata, el país   Metadata: {'source': 'doc2.txt'} Embedding: [ 0.00665318 -0.05930914  0.01631134 -0.10511918 -0.03082966]...\n",
      "ID: 2c8b722a-c8a6-480b-b822-1da8e206e258, Contenido: r la paz, el desarrollo y la cooperación.\n",
      "\n",
      "El respeto por los derechos humanos es un valor fundament  Metadata: {'source': 'doc2.txt'} Embedding: [ 0.02628779  0.01964285 -0.05626845 -0.06864998 -0.01928495]...\n",
      "ID: d97e1aaf-f54f-4162-9551-852ef512d87d, Contenido:  las tradiciones del país.\n",
      "\n",
      "La participación ciudadana es esencial para fortalecer la democracia. Fo  Metadata: {'source': 'doc2.txt'} Embedding: [ 0.10962802  0.01800312 -0.02478086 -0.06179264 -0.02414108]...\n",
      "ID: 2d6afbf7-9527-4c0d-a103-c3096ccee568, Contenido: ar el crecimiento económico con la protección del medio ambiente y el bienestar social. Argentina es  Metadata: {'source': 'doc2.txt'} Embedding: [ 0.02895967  0.02239651 -0.03755986 -0.04734379  0.03390574]...\n",
      "ID: ce662662-1281-467e-b5fb-8286fb6000b6, Contenido: numerosos sitios históricos y culturales que son protegidos y valorados.  Metadata: {'source': 'doc2.txt'} Embedding: [-0.00194133  0.09102163 -0.08669706 -0.05695787 -0.01371844]...\n",
      "ID: d06ffa1c-62a1-4dec-b50f-df58e5a8bc8f, Contenido: La gravedad es una fuerza fundamental en el universo  Metadata: {'source': 'nuevo_documento.txt'} Embedding: [ 0.03029189  0.04238737 -0.03631638 -0.02543901 -0.02042741]...\n",
      "ID: 3a8e3f7d-0bfa-48d1-a3dd-46f3fc340194, Contenido: El sol se alzaba sobre las colinas de Buenos Aires, pintando el cielo con tonos naranja y rosa. El a  Metadata: {'source': 'doc1.txt'} Embedding: [ 0.16241255 -0.05441139  0.06682152  0.38551211  0.24034883]...\n",
      "ID: a4f1e650-0ee8-4c38-9ead-0e46bb27b19e, Contenido: ciosa continuaba, con el tráfico constante y el murmullo de las conversaciones. Los turistas se mara  Metadata: {'source': 'doc1.txt'} Embedding: [ 0.41693842 -0.22367635 -0.0250608   0.24462141 -0.20325111]...\n",
      "ID: 0bb77ae3-626b-4ee3-a957-e58d1749f273, Contenido:  los restaurantes servían deliciosas parrilladas.\n",
      "\n",
      "Hacia el norte, el elegante barrio de Recoleta in  Metadata: {'source': 'doc1.txt'} Embedding: [ 0.27056476 -0.01913119 -0.12165442  0.09657875 -0.11326436]...\n",
      "ID: 9dc7655b-bad2-41f5-b4ac-3927d538c846, Contenido: y novelas exploran la realidad, la fantasía y la condición humana con una prosa exquisita.\n",
      "\n",
      "El fútbo  Metadata: {'source': 'doc1.txt'} Embedding: [ 0.1349972  -0.05812707 -0.04971539  0.03430212  0.18945833]...\n",
      "ID: 99827647-238c-4710-a0f5-3f6c4843a661, Contenido: territorio y sus influencias culturales.\n",
      "\n",
      "La ciencia y la tecnología también tienen un lugar importa  Metadata: {'source': 'doc1.txt'} Embedding: [ 0.13482386 -0.23092934  0.10473133  0.02507791 -0.08378242]...\n",
      "ID: 804dd3cb-e158-4f9a-8728-792bff6d16d0, Contenido: l cambio climático es un desafío global que también afecta a Argentina. Se están implementando medid  Metadata: {'source': 'doc1.txt'} Embedding: [-0.04668846 -0.02635469 -0.04654425 -0.00865718  0.16555062]...\n",
      "ID: 247f649b-4d9b-460d-b593-340e36682970, Contenido: datos vectoriales, en particular, permiten realizar búsquedas semánticas eficientes basadas en la si  Metadata: {'source': 'doc1.txt'} Embedding: [-0.19878609 -0.11457477 -0.0702946  -0.04942841 -0.07926119]...\n",
      "ID: e052398c-44c5-428d-854d-27479ea7f3cb, Contenido: ecialmente útil para buscar información relevante en grandes colecciones de datos.\n",
      "\n",
      "La consulta de u  Metadata: {'source': 'doc1.txt'} Embedding: [-0.02232813 -0.0765324  -0.14762503 -0.06625798  0.00175945]...\n",
      "ID: c044e2c3-145b-4885-99d1-4efbe7b714f4, Contenido: lenguaje natural (PNL) es un campo de la inteligencia artificial que se centra en la comprensión y g  Metadata: {'source': 'doc1.txt'} Embedding: [-0.36683086 -0.20399846 -0.0981231  -0.12422219 -0.22333464]...\n",
      "ID: 78066498-5429-4bd2-878b-e201276b0b94, Contenido: datos que son significativamente diferentes del resto. Las bases de datos vectoriales pueden utiliza  Metadata: {'source': 'doc1.txt'} Embedding: [-0.0123207  -0.16575406 -0.06108864 -0.01672903  0.0415589 ]...\n",
      "ID: c5c89c89-817f-4d46-a908-3008172dd8ef, Contenido: e a las máquinas aprender de los datos sin ser programadas explícitamente. Los embeddings son una fo  Metadata: {'source': 'doc1.txt'} Embedding: [-0.11541093 -0.06387988 -0.1070599  -0.02330477 -0.11429792]...\n",
      "ID: 4d1f8d32-75b6-4ba9-9415-b67f67849cb4, Contenido:  la similitud entre dos vectores. En el contexto de los embeddings, un valor de coseno cercano a 1 i  Metadata: {'source': 'doc1.txt'} Embedding: [-0.10677969 -0.08673441  0.0428459  -0.04561299  0.0310184 ]...\n",
      "ID: 7f012f00-b276-49bd-bad4-0fa747d67b14, Contenido: ales para acelerar la búsqueda de vecinos más cercanos.\n",
      "\n",
      "La evaluación de la calidad de los embeddin  Metadata: {'source': 'doc1.txt'} Embedding: [-0.041189    0.0141079  -0.0775814  -0.12079196 -0.0977834 ]...\n",
      "ID: 096e608d-0283-444c-a43e-4472cb41b556, Contenido: de modelos de embedding pre-entrenados puede mejorar su rendimiento en tareas específicas al adaptar  Metadata: {'source': 'doc1.txt'} Embedding: [-0.06567118  0.04835046 -0.10388565 -0.07783064  0.02569196]...\n",
      "ID: 297f015e-2469-4eb9-b1c9-c8a55b58d1c4, Contenido: dexación y consulta para manejar grandes volúmenes de embeddings.\n",
      "\n",
      "La seguridad y la privacidad son   Metadata: {'source': 'doc1.txt'} Embedding: [-0.0882671   0.05474259 -0.26298845 -0.11483917  0.06482625]...\n",
      "ID: 1000f4cc-cb27-4539-9928-a876195a091b, Contenido: La ciudad de Córdoba, ubicada en el corazón de Argentina, es conocida por su rica historia colonial   Metadata: {'source': 'doc3.txt'} Embedding: [ 0.17447378 -0.11751129 -0.01454056  0.02769328  0.06716441]...\n",
      "ID: 60b364df-899d-4881-965a-d89e263ceb39, Contenido:  la capital del vino argentino. Sus viñedos y bodegas atraen a turistas de todo el mundo, y sus pais  Metadata: {'source': 'doc3.txt'} Embedding: [ 0.06678224 -0.02686278  0.04285401  0.02780903  0.03313142]...\n",
      "ID: 0e72a188-b8ff-45a8-978e-d52f79a0557a, Contenido: caudal y la belleza de su entorno selvático atraen a miles de visitantes cada año.\n",
      "\n",
      "La Antártida Arg  Metadata: {'source': 'doc3.txt'} Embedding: [-0.01858303 -0.08742027  0.00873079  0.03136195  0.10676566]...\n",
      "ID: 07d144cd-8cdc-4a33-83ee-749a995f40f3, Contenido: en crecimiento en Argentina, con investigaciones y desarrollos en áreas como la agricultura, la salu  Metadata: {'source': 'doc3.txt'} Embedding: [ 0.02927444 -0.13145606 -0.0539467  -0.03855436  0.11118915]...\n",
      "ID: 404a9be6-8956-4a4e-8342-a596075ccc89, Contenido: visión, ha logrado importantes premios y reconocimiento a nivel mundial, destacándose por su calidad  Metadata: {'source': 'doc3.txt'} Embedding: [ 0.07086232 -0.14252666  0.02958669  0.08598781 -0.05017492]...\n",
      "ID: bb95e470-c50c-41ec-9339-417d4e915000, Contenido: ersidad de sus regiones y sus tradiciones, con productos elaborados en cuero, madera, cerámica y tex  Metadata: {'source': 'doc3.txt'} Embedding: [-0.04403568 -0.07070323 -0.01325209  0.02071878  0.0945451 ]...\n",
      "ID: bc166307-acc7-4603-aaf9-66201a1c8776, Contenido: tina, participando en iniciativas como el Mercosur para fortalecer los lazos económicos y políticos   Metadata: {'source': 'doc3.txt'} Embedding: [ 0.06354433  0.11327454 -0.04891372  0.11474339  0.21110474]...\n",
      "ID: 066ec7d2-be89-4161-afe6-09c2bd3a4599, Contenido: alimentaria es un desafío global que también preocupa a Argentina, un país con una importante produc  Metadata: {'source': 'doc3.txt'} Embedding: [ 0.02084177 -0.25710365  0.02341806  0.11862122  0.28655517]...\n",
      "ID: 5364b135-def7-45cc-a76e-662688a7520d, Contenido: Las montañas de los Andes se alzan majestuosamente a lo largo de la frontera occidental de Argentina  Metadata: {'source': 'doc2.txt'} Embedding: [-0.01256584 -0.06382907  0.05674514  0.19509231  0.05534593]...\n",
      "ID: 8e32407f-cbeb-4ef1-91cf-23c7365da7a3, Contenido:  folklóricas se mantienen vivas en este paisaje declarado Patrimonio de la Humanidad por la UNESCO.\n",
      "  Metadata: {'source': 'doc2.txt'} Embedding: [ 0.07768305 -0.00177833  0.07367399  0.10511114  0.06681212]...\n",
      "ID: d58b29fe-65b1-424e-8c03-24c258f39c91, Contenido: iares, con el famoso Perito Moreno, atrae a visitantes de todo el mundo.\n",
      "\n",
      "La fauna argentina es dive  Metadata: {'source': 'doc2.txt'} Embedding: [ 0.03479341 -0.05149331  0.09160956  0.10646982  0.11424857]...\n",
      "ID: 1a3837b7-8731-488c-aa76-a74d93da8a14, Contenido: ósiles.\n",
      "\n",
      "La exploración espacial es un campo en crecimiento en Argentina, con el desarrollo de satél  Metadata: {'source': 'doc2.txt'} Embedding: [ 0.03004446 -0.06269047 -0.0302776  -0.05396806  0.0950392 ]...\n",
      "ID: 45a449b5-15e5-42b4-86c3-3c2b22df931b, Contenido: ma que busca garantizar el acceso a la atención médica a todos los ciudadanos. Se están implementand  Metadata: {'source': 'doc2.txt'} Embedding: [ 0.05314571 -0.12795138 -0.07590991  0.0349933   0.13735037]...\n",
      "ID: 1bd5209e-621f-4ce4-984a-53f3fe827b24, Contenido: su cultura y su historia. Desde las Cataratas del Iguazú hasta las playas de Mar del Plata, el país   Metadata: {'source': 'doc2.txt'} Embedding: [-0.03999788 -0.11740777  0.00577259 -0.06129872  0.1299219 ]...\n",
      "ID: 5e9c0fe5-fe33-4ee6-a9c2-49d9b908d955, Contenido: r la paz, el desarrollo y la cooperación.\n",
      "\n",
      "El respeto por los derechos humanos es un valor fundament  Metadata: {'source': 'doc2.txt'} Embedding: [-0.01496886 -0.07615618 -0.03730609  0.02420838  0.16552678]...\n",
      "ID: 280d3940-d4f8-4674-8339-cab529d68445, Contenido:  las tradiciones del país.\n",
      "\n",
      "La participación ciudadana es esencial para fortalecer la democracia. Fo  Metadata: {'source': 'doc2.txt'} Embedding: [ 0.04229073  0.12015192 -0.09385532 -0.07899985  0.17491981]...\n",
      "ID: 93fe88f9-db44-4c17-9c2c-25054119f6f9, Contenido: ar el crecimiento económico con la protección del medio ambiente y el bienestar social. Argentina es  Metadata: {'source': 'doc2.txt'} Embedding: [-0.00341832  0.11958748 -0.06254394  0.00534322  0.09770638]...\n",
      "ID: e15d6967-eb64-4568-9314-093c9cd2d177, Contenido: numerosos sitios históricos y culturales que son protegidos y valorados.  Metadata: {'source': 'doc2.txt'} Embedding: [ 0.46180439  0.23900664 -0.39226186  0.20772582 -0.0419652 ]...\n"
     ]
    }
   ],
   "source": [
    "for id, content, metadata, embedding in zip(results[\"ids\"], results[\"documents\"], results[\"metadatas\"], results[\"embeddings\"]):\n",
    "    print(f\"ID: {id}, Contenido: {content[:100]} \", f\"Metadata: {metadata}\", f\"Embedding: {embedding[:5]}...\")"
   ]
  },
  {
   "cell_type": "code",
   "execution_count": null,
   "id": "7354d78c",
   "metadata": {},
   "outputs": [],
   "source": [
    "while True:\n",
    "    opcion = input(\"Elige una opción o escribe ayuda: \")\n",
    "    \n",
    "    if opcion==\"ayuda\":\n",
    "        print(\"\\n--- Menú CRUD ---\")\n",
    "        print(\"1. Crear documento\")\n",
    "        print(\"2. Consultar por tema\")\n",
    "        print(\"3. Actualizar documento (por ID)\")\n",
    "        print(\"4. Eliminar documento (por ID)\")\n",
    "        print(\"5. Buscar documento (por ID)\")\n",
    "        print(\"6. Salir\")\n",
    "\n",
    "    if opcion == \"1\":\n",
    "        nuevo_doc = input(\"Ingresa el texto a añadir: \")\n",
    "        create_example(nuevo_doc)\n",
    "        \n",
    "    elif opcion == \"2\":\n",
    "        consulta = input(\"Consulta: \")\n",
    "        read_example(consulta)\n",
    "        \n",
    "    elif opcion == \"3\":\n",
    "        doc_id = input(\"ID del documento a actualizar: \")\n",
    "        nuevo_texto = input(\"Nuevo contenido: \")\n",
    "        update_example(doc_id, nuevo_texto)\n",
    "        \n",
    "    elif opcion == \"4\":\n",
    "        doc_id = input(\"ID del documento a eliminar: \")\n",
    "        delete_example(doc_id)  \n",
    "\n",
    "    elif opcion == \"5\":\n",
    "        doc_id = input(\"ID del documento a buscar: \")\n",
    "        get_documents_by_id(doc_id)\n",
    "        \n",
    "    elif opcion == \"6\":\n",
    "        print(\"👋 Saliendo del programa.\")\n",
    "        break"
   ]
  },
  {
   "cell_type": "markdown",
   "id": "253b5390",
   "metadata": {},
   "source": [
    "### **Ejercicio 1: Crear y Consultar** ###\n",
    "\n",
    "**Crea un documento nuevo con el texto: \"La gravedad es una fuerza fundamental en el universo\".**\n"
   ]
  },
  {
   "cell_type": "code",
   "execution_count": 30,
   "id": "8814512d",
   "metadata": {},
   "outputs": [
    {
     "name": "stdout",
     "output_type": "stream",
     "text": [
      "✅ Documento añadido con ID: 93640ef2-29d7-436f-9e4c-79f2885e766a\n"
     ]
    }
   ],
   "source": [
    "create_example(\"La gravedad es una fuerza fundamental en el universo\")"
   ]
  },
  {
   "cell_type": "code",
   "execution_count": 31,
   "id": "0674e5f6",
   "metadata": {},
   "outputs": [
    {
     "name": "stdout",
     "output_type": "stream",
     "text": [
      "IDs: ['a07dd390-09d9-4235-ab01-cc797272a28b', '727d58d6-e5c9-489e-86f4-11d95b9e3bf8', '93c89342-60f8-44b8-ac20-db0e01be46e7', 'b66e4266-d216-4bd7-a9e6-e6dde0e61152', '922aa459-5ec9-461d-b2ab-68dddfe117b7', 'f88605a1-f5a3-4b00-98ee-d9fa7b7811e4', '56b13237-d211-47bb-8ef2-77599a5d9b0f', '45aed722-c976-4f03-b264-5df7adce03cb', '57364637-f410-4177-8f24-87227a0571aa', 'bf4f278d-b072-4700-b0d5-444ba52adf45', '2016ed1b-e0ab-4ebf-8eb3-8f2f3eed1b3f', '8998b0c3-21a8-450b-ad8e-6c428068b880', 'a6e3b550-9154-4589-9fd6-192ae38411f1', '2510bbfd-e5e0-447e-a2ad-a851ba45ce85', 'b0085745-e5ea-4207-9620-fdb59df2cea6', 'fe8f63b1-b010-441e-ae53-2111d5f0d6c4', 'e9c9fecd-8bde-4413-8fd2-92457bc30364', '51883084-8ec1-4887-ba96-d772dfa4bb1a', 'c8576df9-90fc-4ff5-a920-8112d8dc2468', '1cbd90b2-ff75-4949-907d-fb07a78b5bac', '6ab0708a-30b6-47ff-ad85-15653ddbb1b9', '64802144-8b4e-4fef-bd56-11e66a2dfa2b', '341d8543-cc66-479f-8256-fa18ead0f326', '5da5a94a-7d58-4816-9cbe-2ec1f52c3615', 'c449e973-1f2c-49a6-b377-9c54ac2a2d3b', '4bef11ea-85a9-4fd4-a423-0e7c00ed215f', '48c6a177-7630-4513-8bb6-46eb2b45fd3d', '7b13f18d-5a49-453b-93e8-8da4bb6c506a', 'ab9fd319-2694-4ce9-8445-92d86caeca83', '2c8b722a-c8a6-480b-b822-1da8e206e258', 'd97e1aaf-f54f-4162-9551-852ef512d87d', '2d6afbf7-9527-4c0d-a103-c3096ccee568', 'ce662662-1281-467e-b5fb-8286fb6000b6', 'd06ffa1c-62a1-4dec-b50f-df58e5a8bc8f', '3a8e3f7d-0bfa-48d1-a3dd-46f3fc340194', 'a4f1e650-0ee8-4c38-9ead-0e46bb27b19e', '0bb77ae3-626b-4ee3-a957-e58d1749f273', '9dc7655b-bad2-41f5-b4ac-3927d538c846', '99827647-238c-4710-a0f5-3f6c4843a661', '804dd3cb-e158-4f9a-8728-792bff6d16d0', '247f649b-4d9b-460d-b593-340e36682970', 'e052398c-44c5-428d-854d-27479ea7f3cb', 'c044e2c3-145b-4885-99d1-4efbe7b714f4', '78066498-5429-4bd2-878b-e201276b0b94', 'c5c89c89-817f-4d46-a908-3008172dd8ef', '4d1f8d32-75b6-4ba9-9415-b67f67849cb4', '7f012f00-b276-49bd-bad4-0fa747d67b14', '096e608d-0283-444c-a43e-4472cb41b556', '297f015e-2469-4eb9-b1c9-c8a55b58d1c4', '1000f4cc-cb27-4539-9928-a876195a091b', '60b364df-899d-4881-965a-d89e263ceb39', '0e72a188-b8ff-45a8-978e-d52f79a0557a', '07d144cd-8cdc-4a33-83ee-749a995f40f3', '404a9be6-8956-4a4e-8342-a596075ccc89', 'bb95e470-c50c-41ec-9339-417d4e915000', 'bc166307-acc7-4603-aaf9-66201a1c8776', '066ec7d2-be89-4161-afe6-09c2bd3a4599', '5364b135-def7-45cc-a76e-662688a7520d', '8e32407f-cbeb-4ef1-91cf-23c7365da7a3', 'd58b29fe-65b1-424e-8c03-24c258f39c91', '1a3837b7-8731-488c-aa76-a74d93da8a14', '45a449b5-15e5-42b4-86c3-3c2b22df931b', '1bd5209e-621f-4ce4-984a-53f3fe827b24', '5e9c0fe5-fe33-4ee6-a9c2-49d9b908d955', '280d3940-d4f8-4674-8339-cab529d68445', '93fe88f9-db44-4c17-9c2c-25054119f6f9', 'e15d6967-eb64-4568-9314-093c9cd2d177', '93640ef2-29d7-436f-9e4c-79f2885e766a']\n",
      "Documents: ['El sol se alzaba sobre las colinas de Buenos Aires, pintando el cielo con tonos naranja y rosa. El aroma del café recién hecho flotaba en el aire mientras la ciudad comenzaba a despertar. Los porteños se preparaban para un nuevo día lleno de actividad, desde los que se dirigían a sus trabajos en el centro hasta los que disfrutaban de un paseo matutino por los parques.\\n\\nEn el corazón de la ciudad, el Obelisco se erguía como un testigo silencioso de la historia argentina. A sus pies, la vida bulli', 'ciosa continuaba, con el tráfico constante y el murmullo de las conversaciones. Los turistas se maravillaban ante la grandiosidad del Teatro Colón, imaginando las óperas y ballets que habían resonado en su interior.\\n\\nMás al sur, en el barrio de La Boca, los colores vibrantes de las casas de Caminito contaban historias de inmigrantes y artistas. El tango resonaba en las calles, invitando a los visitantes a sentir la pasión de esta danza emblemática. Los artesanos ofrecían sus creaciones, mientras', ' los restaurantes servían deliciosas parrilladas.\\n\\nHacia el norte, el elegante barrio de Recoleta invitaba a la tranquilidad con sus amplias avenidas y parques cuidados. El Cementerio de la Recoleta, con sus imponentes mausoleos, era un laberinto de historia y arte funerario. Los cafés y boutiques de la zona ofrecían un ambiente sofisticado.\\n\\nLa literatura argentina ha dado grandes nombres como Jorge Luis Borges y Julio Cortázar, cuyas obras han trascendido fronteras y generaciones. Sus cuentos ', 'y novelas exploran la realidad, la fantasía y la condición humana con una prosa exquisita.\\n\\nEl fútbol es una pasión que une a los argentinos. Los estadios como La Bombonera y El Monumental son templos donde se viven intensas emociones. Los nombres de Maradona y Messi resuenan con orgullo en cada rincón del país.\\n\\nLa gastronomía argentina es rica y variada, desde las empanadas y el asado hasta el dulce de leche y el mate. Cada región tiene sus propias especialidades, reflejando la diversidad del ', 'territorio y sus influencias culturales.\\n\\nLa ciencia y la tecnología también tienen un lugar importante en Argentina. Investigadores y científicos trabajan en diversas áreas, desde la biotecnología hasta la astronomía, contribuyendo al avance del conocimiento.\\n\\nLa música folklórica argentina, con sus ritmos y melodías características, cuenta historias de la tierra y sus habitantes. Instrumentos como la guitarra, el charango y el bombo legüero son protagonistas de estas expresiones culturales.\\n\\nE', 'l cambio climático es un desafío global que también afecta a Argentina. Se están implementando medidas para mitigar sus efectos y promover la sostenibilidad en diferentes sectores.\\n\\nLa inteligencia artificial está transformando muchas industrias y la vida cotidiana. Su aplicación en áreas como la salud, la educación y la producción está generando nuevas oportunidades y desafíos.\\n\\nLas bases de datos son fundamentales para la gestión y el análisis de grandes volúmenes de información. Las bases de ', 'datos vectoriales, en particular, permiten realizar búsquedas semánticas eficientes basadas en la similitud de los embeddings.\\n\\nLos embeddings son representaciones numéricas de datos, como texto o imágenes, que capturan su significado semántico. Esta técnica es crucial para muchas aplicaciones de inteligencia artificial, como la búsqueda y recomendación.\\n\\nIndexar embeddings en una base de datos vectorial permite realizar consultas rápidas y precisas basadas en la similitud semántica. Esto es esp', 'ecialmente útil para buscar información relevante en grandes colecciones de datos.\\n\\nLa consulta de una base de datos vectorial implica buscar los embeddings más cercanos al embedding de la consulta. La distancia entre los embeddings indica la similitud semántica entre los datos.\\n\\nLas aplicaciones de las bases de datos vectoriales son diversas, incluyendo la búsqueda semántica, los sistemas de recomendación, la detección de anomalías y el procesamiento del lenguaje natural.\\n\\nEl procesamiento del ', 'lenguaje natural (PNL) es un campo de la inteligencia artificial que se centra en la comprensión y generación del lenguaje humano. Los embeddings son una herramienta fundamental en muchas tareas de PNL.\\n\\nLos sistemas de recomendación utilizan bases de datos vectoriales para encontrar elementos similares a los que un usuario ha mostrado interés previamente. Esto permite ofrecer sugerencias personalizadas de productos, películas o música.\\n\\nLa detección de anomalías se basa en la identificación de ', 'datos que son significativamente diferentes del resto. Las bases de datos vectoriales pueden utilizarse para encontrar embeddings que se encuentran lejos de los clusters principales.\\n\\nLa búsqueda semántica va más allá de la búsqueda por palabras clave, permitiendo encontrar información relevante basada en el significado de la consulta. Las bases de datos vectoriales son ideales para implementar este tipo de búsqueda.\\n\\nEl aprendizaje automático es un campo de la inteligencia artificial que permit', 'e a las máquinas aprender de los datos sin ser programadas explícitamente. Los embeddings son una forma de representar los datos para que puedan ser procesados por algoritmos de aprendizaje automático.\\n\\nLas redes neuronales son modelos computacionales inspirados en el cerebro humano. Se utilizan ampliamente en el aprendizaje automático y son capaces de aprender representaciones complejas de los datos, como los embeddings.\\n\\nEl concepto de similitud coseno es una métrica común utilizada para medir', ' la similitud entre dos vectores. En el contexto de los embeddings, un valor de coseno cercano a 1 indica una alta similitud semántica.\\n\\nLa normalización de vectores es un paso importante en el procesamiento de embeddings para asegurar que la magnitud de los vectores no influya en el cálculo de la similitud.\\n\\nLos algoritmos de indexación vectorial, como HNSW y Annoy, permiten realizar búsquedas eficientes en grandes conjuntos de embeddings. Estos algoritmos construyen estructuras de datos especi', 'ales para acelerar la búsqueda de vecinos más cercanos.\\n\\nLa evaluación de la calidad de los embeddings es crucial para asegurar que capturen de manera efectiva el significado semántico de los datos. Se utilizan diversas métricas y técnicas para realizar esta evaluación.\\n\\nLa elección del modelo de embedding adecuado depende de la tarea específica y del tipo de datos que se estén utilizando. Existen diferentes modelos pre-entrenados y técnicas para entrenar modelos personalizados.\\n\\nEl ajuste fino ', 'de modelos de embedding pre-entrenados puede mejorar su rendimiento en tareas específicas al adaptarlos a un conjunto de datos particular.\\n\\nLa interpretabilidad de los embeddings es un desafío importante en la investigación actual. Comprender qué características del dato original se capturan en el embedding puede ser útil para depurar y mejorar los modelos.\\n\\nLa escalabilidad es un factor clave a considerar al trabajar con bases de datos vectoriales grandes. Se necesitan técnicas eficientes de in', 'dexación y consulta para manejar grandes volúmenes de embeddings.\\n\\nLa seguridad y la privacidad son consideraciones importantes al almacenar y consultar embeddings, especialmente cuando se trata de datos sensibles.\\n\\nEl futuro de las bases de datos vectoriales es prometedor, con continuas investigaciones y desarrollos en áreas como la eficiencia, la escalabilidad y la interpretabilidad.', 'La ciudad de Córdoba, ubicada en el corazón de Argentina, es conocida por su rica historia colonial y su vibrante vida universitaria. Sus edificios históricos, como la Manzana Jesuítica, declarada Patrimonio de la Humanidad, son testigos de un pasado importante.\\n\\nRosario, a orillas del río Paraná, es una ciudad portuaria con una fuerte identidad cultural. Cuna de la bandera argentina, alberga importantes monumentos y una activa escena artística.\\n\\nMendoza, al pie de la Cordillera de los Andes, es', ' la capital del vino argentino. Sus viñedos y bodegas atraen a turistas de todo el mundo, y sus paisajes montañosos ofrecen oportunidades para el turismo de aventura.\\n\\nSan Carlos de Bariloche, en la Patagonia, es un destino turístico popular conocido por sus lagos, montañas y centros de esquí. Su arquitectura de estilo alpino y su entorno natural la convierten en un lugar único.\\n\\nLas Cataratas del Iguazú, en la frontera con Brasil, son una de las maravillas naturales del mundo. Su impresionante ', 'caudal y la belleza de su entorno selvático atraen a miles de visitantes cada año.\\n\\nLa Antártida Argentina es un territorio reclamado por el país, donde se realizan importantes investigaciones científicas en diversas áreas, desde la glaciología hasta la biología marina.\\n\\nLa astronomía tiene un lugar destacado en Argentina, con observatorios de renombre internacional como el Observatorio Pierre Auger, dedicado al estudio de los rayos cósmicos de ultra alta energía.\\n\\nLa biotecnología es un sector ', 'en crecimiento en Argentina, con investigaciones y desarrollos en áreas como la agricultura, la salud y la industria.\\n\\nLa industria del software y los servicios informáticos tienen un gran potencial en Argentina, con un talento humano calificado y un ecosistema emprendedor en expansión.\\n\\nEl diseño de indumentaria y la moda argentina están ganando reconocimiento a nivel internacional, con diseñadores que fusionan tradición y vanguardia.\\n\\nLa producción audiovisual argentina, incluyendo cine y tele', 'visión, ha logrado importantes premios y reconocimiento a nivel mundial, destacándose por su calidad y creatividad.\\n\\nEl teatro y las artes escénicas tienen una larga tradición en Argentina, con una gran cantidad de salas y una diversidad de propuestas que van desde el teatro clásico hasta las expresiones contemporáneas.\\n\\nLa danza, en sus diversas formas, desde el tango hasta la danza contemporánea, es una parte importante de la expresión cultural argentina.\\n\\nLa artesanía argentina refleja la div', 'ersidad de sus regiones y sus tradiciones, con productos elaborados en cuero, madera, cerámica y textiles.\\n\\nLos pueblos originarios de Argentina tienen una rica historia y cultura, con lenguas, tradiciones y conocimientos ancestrales que son importantes preservar y valorar.\\n\\nLa inmigración ha sido un factor clave en la formación de la identidad argentina, aportando diversas costumbres, idiomas y tradiciones que enriquecen la sociedad.\\n\\nLa integración regional es un objetivo importante para Argen', 'tina, participando en iniciativas como el Mercosur para fortalecer los lazos económicos y políticos con los países vecinos.\\n\\nLa educación ambiental es fundamental para crear conciencia sobre la importancia de proteger el medio ambiente y promover prácticas sostenibles.\\n\\nLa salud mental es un aspecto crucial del bienestar integral. En Argentina se están realizando esfuerzos para mejorar el acceso a servicios de salud mental y reducir el estigma asociado a las enfermedades mentales.\\n\\nLa seguridad ', 'alimentaria es un desafío global que también preocupa a Argentina, un país con una importante producción agrícola. Se buscan estrategias para garantizar el acceso a alimentos nutritivos para toda la población.', 'Las montañas de los Andes se alzan majestuosamente a lo largo de la frontera occidental de Argentina. Sus picos nevados y valles profundos albergan una rica biodiversidad y paisajes impresionantes. Desde el Aconcagua, la cumbre más alta de América, hasta los glaciares patagónicos, la cordillera andina ofrece un espectáculo natural único.\\n\\nEn el norte, la región de la Quebrada de Humahuaca deslumbra con sus cerros multicolores y su rica historia cultural. Los pueblos ancestrales y las tradiciones', ' folklóricas se mantienen vivas en este paisaje declarado Patrimonio de la Humanidad por la UNESCO.\\n\\nLas llanuras pampeanas se extienden en el centro del país, vastas extensiones de tierra fértil dedicadas a la agricultura y la ganadería. El gaucho, figura emblemática de esta región, representa la tradición y la cultura campera argentina.\\n\\nLa Patagonia, en el sur, es una tierra de contrastes, con estepas áridas, bosques fríos, lagos cristalinos y glaciares imponentes. El Parque Nacional Los Glac', 'iares, con el famoso Perito Moreno, atrae a visitantes de todo el mundo.\\n\\nLa fauna argentina es diversa y fascinante, desde el yaguareté en las selvas del norte hasta las ballenas francas australes en las costas patagónicas. Aves como el cóndor andino y el hornero, ave nacional, son símbolos de la naturaleza del país.\\n\\nLa energía renovable está ganando terreno en Argentina, con proyectos eólicos y solares que buscan diversificar la matriz energética y reducir la dependencia de los combustibles f', 'ósiles.\\n\\nLa exploración espacial es un campo en crecimiento en Argentina, con el desarrollo de satélites y la participación en proyectos internacionales. La investigación y el desarrollo en este ámbito son fundamentales para el avance tecnológico del país.\\n\\nLa educación es un pilar fundamental para el desarrollo de Argentina. Se están realizando esfuerzos para mejorar la calidad y la equidad del sistema educativo en todos los niveles.\\n\\nLa salud pública es una prioridad en Argentina, con un siste', 'ma que busca garantizar el acceso a la atención médica a todos los ciudadanos. Se están implementando políticas para fortalecer la prevención y el tratamiento de enfermedades.\\n\\nLa cultura del vino es muy importante en Argentina, especialmente en la región de Mendoza, donde se producen vinos de alta calidad reconocidos a nivel mundial, siendo el Malbec la cepa insignia.\\n\\nEl turismo es una actividad económica clave en Argentina, atrayendo a visitantes interesados en la diversidad de sus paisajes, ', 'su cultura y su historia. Desde las Cataratas del Iguazú hasta las playas de Mar del Plata, el país ofrece una amplia gama de destinos.\\n\\nLa innovación tecnológica es un motor de crecimiento en Argentina, con emprendedores y empresas desarrollando soluciones en áreas como el software, la biotecnología y la inteligencia artificial.\\n\\nLa colaboración internacional es fundamental para abordar los desafíos globales. Argentina participa activamente en foros y organizaciones internacionales para promove', 'r la paz, el desarrollo y la cooperación.\\n\\nEl respeto por los derechos humanos es un valor fundamental en la sociedad argentina. Se han realizado importantes avances en la protección y promoción de los derechos civiles, políticos, económicos, sociales y culturales.\\n\\nLa diversidad cultural es una característica enriquecedora de Argentina, resultado de la inmigración de diferentes partes del mundo a lo largo de su historia. Esta mezcla de culturas se refleja en la gastronomía, la música, el arte y', ' las tradiciones del país.\\n\\nLa participación ciudadana es esencial para fortalecer la democracia. Fomentar el involucramiento de los ciudadanos en los asuntos públicos contribuye a una sociedad más justa y equitativa.\\n\\nLa transparencia y la rendición de cuentas son principios fundamentales para la buena gobernanza. Promover la transparencia en la gestión pública y exigir la rendición de cuentas a los funcionarios son cruciales para combatir la corrupción.\\n\\nEl desarrollo sostenible busca equilibr', 'ar el crecimiento económico con la protección del medio ambiente y el bienestar social. Argentina está implementando políticas para avanzar hacia un modelo de desarrollo más sostenible.\\n\\nLa investigación científica es esencial para generar conocimiento y promover la innovación. El apoyo a la investigación en diversas áreas es fundamental para el desarrollo del país.\\n\\nLa protección del patrimonio cultural es importante para preservar la historia y la identidad de una nación. Argentina cuenta con ', 'numerosos sitios históricos y culturales que son protegidos y valorados.', 'La gravedad es una fuerza fundamental en el universo', 'El sol se alzaba sobre las colinas de Buenos Aires, pintando el cielo con tonos naranja y rosa. El aroma del café recién hecho flotaba en el aire mientras la ciudad comenzaba a despertar. Los porteños se preparaban para un nuevo día lleno de actividad, desde los que se dirigían a sus trabajos en el centro hasta los que disfrutaban de un paseo matutino por los parques.\\n\\nEn el corazón de la ciudad, el Obelisco se erguía como un testigo silencioso de la historia argentina. A sus pies, la vida bulli', 'ciosa continuaba, con el tráfico constante y el murmullo de las conversaciones. Los turistas se maravillaban ante la grandiosidad del Teatro Colón, imaginando las óperas y ballets que habían resonado en su interior.\\n\\nMás al sur, en el barrio de La Boca, los colores vibrantes de las casas de Caminito contaban historias de inmigrantes y artistas. El tango resonaba en las calles, invitando a los visitantes a sentir la pasión de esta danza emblemática. Los artesanos ofrecían sus creaciones, mientras', ' los restaurantes servían deliciosas parrilladas.\\n\\nHacia el norte, el elegante barrio de Recoleta invitaba a la tranquilidad con sus amplias avenidas y parques cuidados. El Cementerio de la Recoleta, con sus imponentes mausoleos, era un laberinto de historia y arte funerario. Los cafés y boutiques de la zona ofrecían un ambiente sofisticado.\\n\\nLa literatura argentina ha dado grandes nombres como Jorge Luis Borges y Julio Cortázar, cuyas obras han trascendido fronteras y generaciones. Sus cuentos ', 'y novelas exploran la realidad, la fantasía y la condición humana con una prosa exquisita.\\n\\nEl fútbol es una pasión que une a los argentinos. Los estadios como La Bombonera y El Monumental son templos donde se viven intensas emociones. Los nombres de Maradona y Messi resuenan con orgullo en cada rincón del país.\\n\\nLa gastronomía argentina es rica y variada, desde las empanadas y el asado hasta el dulce de leche y el mate. Cada región tiene sus propias especialidades, reflejando la diversidad del ', 'territorio y sus influencias culturales.\\n\\nLa ciencia y la tecnología también tienen un lugar importante en Argentina. Investigadores y científicos trabajan en diversas áreas, desde la biotecnología hasta la astronomía, contribuyendo al avance del conocimiento.\\n\\nLa música folklórica argentina, con sus ritmos y melodías características, cuenta historias de la tierra y sus habitantes. Instrumentos como la guitarra, el charango y el bombo legüero son protagonistas de estas expresiones culturales.\\n\\nE', 'l cambio climático es un desafío global que también afecta a Argentina. Se están implementando medidas para mitigar sus efectos y promover la sostenibilidad en diferentes sectores.\\n\\nLa inteligencia artificial está transformando muchas industrias y la vida cotidiana. Su aplicación en áreas como la salud, la educación y la producción está generando nuevas oportunidades y desafíos.\\n\\nLas bases de datos son fundamentales para la gestión y el análisis de grandes volúmenes de información. Las bases de ', 'datos vectoriales, en particular, permiten realizar búsquedas semánticas eficientes basadas en la similitud de los embeddings.\\n\\nLos embeddings son representaciones numéricas de datos, como texto o imágenes, que capturan su significado semántico. Esta técnica es crucial para muchas aplicaciones de inteligencia artificial, como la búsqueda y recomendación.\\n\\nIndexar embeddings en una base de datos vectorial permite realizar consultas rápidas y precisas basadas en la similitud semántica. Esto es esp', 'ecialmente útil para buscar información relevante en grandes colecciones de datos.\\n\\nLa consulta de una base de datos vectorial implica buscar los embeddings más cercanos al embedding de la consulta. La distancia entre los embeddings indica la similitud semántica entre los datos.\\n\\nLas aplicaciones de las bases de datos vectoriales son diversas, incluyendo la búsqueda semántica, los sistemas de recomendación, la detección de anomalías y el procesamiento del lenguaje natural.\\n\\nEl procesamiento del ', 'lenguaje natural (PNL) es un campo de la inteligencia artificial que se centra en la comprensión y generación del lenguaje humano. Los embeddings son una herramienta fundamental en muchas tareas de PNL.\\n\\nLos sistemas de recomendación utilizan bases de datos vectoriales para encontrar elementos similares a los que un usuario ha mostrado interés previamente. Esto permite ofrecer sugerencias personalizadas de productos, películas o música.\\n\\nLa detección de anomalías se basa en la identificación de ', 'datos que son significativamente diferentes del resto. Las bases de datos vectoriales pueden utilizarse para encontrar embeddings que se encuentran lejos de los clusters principales.\\n\\nLa búsqueda semántica va más allá de la búsqueda por palabras clave, permitiendo encontrar información relevante basada en el significado de la consulta. Las bases de datos vectoriales son ideales para implementar este tipo de búsqueda.\\n\\nEl aprendizaje automático es un campo de la inteligencia artificial que permit', 'e a las máquinas aprender de los datos sin ser programadas explícitamente. Los embeddings son una forma de representar los datos para que puedan ser procesados por algoritmos de aprendizaje automático.\\n\\nLas redes neuronales son modelos computacionales inspirados en el cerebro humano. Se utilizan ampliamente en el aprendizaje automático y son capaces de aprender representaciones complejas de los datos, como los embeddings.\\n\\nEl concepto de similitud coseno es una métrica común utilizada para medir', ' la similitud entre dos vectores. En el contexto de los embeddings, un valor de coseno cercano a 1 indica una alta similitud semántica.\\n\\nLa normalización de vectores es un paso importante en el procesamiento de embeddings para asegurar que la magnitud de los vectores no influya en el cálculo de la similitud.\\n\\nLos algoritmos de indexación vectorial, como HNSW y Annoy, permiten realizar búsquedas eficientes en grandes conjuntos de embeddings. Estos algoritmos construyen estructuras de datos especi', 'ales para acelerar la búsqueda de vecinos más cercanos.\\n\\nLa evaluación de la calidad de los embeddings es crucial para asegurar que capturen de manera efectiva el significado semántico de los datos. Se utilizan diversas métricas y técnicas para realizar esta evaluación.\\n\\nLa elección del modelo de embedding adecuado depende de la tarea específica y del tipo de datos que se estén utilizando. Existen diferentes modelos pre-entrenados y técnicas para entrenar modelos personalizados.\\n\\nEl ajuste fino ', 'de modelos de embedding pre-entrenados puede mejorar su rendimiento en tareas específicas al adaptarlos a un conjunto de datos particular.\\n\\nLa interpretabilidad de los embeddings es un desafío importante en la investigación actual. Comprender qué características del dato original se capturan en el embedding puede ser útil para depurar y mejorar los modelos.\\n\\nLa escalabilidad es un factor clave a considerar al trabajar con bases de datos vectoriales grandes. Se necesitan técnicas eficientes de in', 'dexación y consulta para manejar grandes volúmenes de embeddings.\\n\\nLa seguridad y la privacidad son consideraciones importantes al almacenar y consultar embeddings, especialmente cuando se trata de datos sensibles.\\n\\nEl futuro de las bases de datos vectoriales es prometedor, con continuas investigaciones y desarrollos en áreas como la eficiencia, la escalabilidad y la interpretabilidad.', 'La ciudad de Córdoba, ubicada en el corazón de Argentina, es conocida por su rica historia colonial y su vibrante vida universitaria. Sus edificios históricos, como la Manzana Jesuítica, declarada Patrimonio de la Humanidad, son testigos de un pasado importante.\\n\\nRosario, a orillas del río Paraná, es una ciudad portuaria con una fuerte identidad cultural. Cuna de la bandera argentina, alberga importantes monumentos y una activa escena artística.\\n\\nMendoza, al pie de la Cordillera de los Andes, es', ' la capital del vino argentino. Sus viñedos y bodegas atraen a turistas de todo el mundo, y sus paisajes montañosos ofrecen oportunidades para el turismo de aventura.\\n\\nSan Carlos de Bariloche, en la Patagonia, es un destino turístico popular conocido por sus lagos, montañas y centros de esquí. Su arquitectura de estilo alpino y su entorno natural la convierten en un lugar único.\\n\\nLas Cataratas del Iguazú, en la frontera con Brasil, son una de las maravillas naturales del mundo. Su impresionante ', 'caudal y la belleza de su entorno selvático atraen a miles de visitantes cada año.\\n\\nLa Antártida Argentina es un territorio reclamado por el país, donde se realizan importantes investigaciones científicas en diversas áreas, desde la glaciología hasta la biología marina.\\n\\nLa astronomía tiene un lugar destacado en Argentina, con observatorios de renombre internacional como el Observatorio Pierre Auger, dedicado al estudio de los rayos cósmicos de ultra alta energía.\\n\\nLa biotecnología es un sector ', 'en crecimiento en Argentina, con investigaciones y desarrollos en áreas como la agricultura, la salud y la industria.\\n\\nLa industria del software y los servicios informáticos tienen un gran potencial en Argentina, con un talento humano calificado y un ecosistema emprendedor en expansión.\\n\\nEl diseño de indumentaria y la moda argentina están ganando reconocimiento a nivel internacional, con diseñadores que fusionan tradición y vanguardia.\\n\\nLa producción audiovisual argentina, incluyendo cine y tele', 'visión, ha logrado importantes premios y reconocimiento a nivel mundial, destacándose por su calidad y creatividad.\\n\\nEl teatro y las artes escénicas tienen una larga tradición en Argentina, con una gran cantidad de salas y una diversidad de propuestas que van desde el teatro clásico hasta las expresiones contemporáneas.\\n\\nLa danza, en sus diversas formas, desde el tango hasta la danza contemporánea, es una parte importante de la expresión cultural argentina.\\n\\nLa artesanía argentina refleja la div', 'ersidad de sus regiones y sus tradiciones, con productos elaborados en cuero, madera, cerámica y textiles.\\n\\nLos pueblos originarios de Argentina tienen una rica historia y cultura, con lenguas, tradiciones y conocimientos ancestrales que son importantes preservar y valorar.\\n\\nLa inmigración ha sido un factor clave en la formación de la identidad argentina, aportando diversas costumbres, idiomas y tradiciones que enriquecen la sociedad.\\n\\nLa integración regional es un objetivo importante para Argen', 'tina, participando en iniciativas como el Mercosur para fortalecer los lazos económicos y políticos con los países vecinos.\\n\\nLa educación ambiental es fundamental para crear conciencia sobre la importancia de proteger el medio ambiente y promover prácticas sostenibles.\\n\\nLa salud mental es un aspecto crucial del bienestar integral. En Argentina se están realizando esfuerzos para mejorar el acceso a servicios de salud mental y reducir el estigma asociado a las enfermedades mentales.\\n\\nLa seguridad ', 'alimentaria es un desafío global que también preocupa a Argentina, un país con una importante producción agrícola. Se buscan estrategias para garantizar el acceso a alimentos nutritivos para toda la población.', 'Las montañas de los Andes se alzan majestuosamente a lo largo de la frontera occidental de Argentina. Sus picos nevados y valles profundos albergan una rica biodiversidad y paisajes impresionantes. Desde el Aconcagua, la cumbre más alta de América, hasta los glaciares patagónicos, la cordillera andina ofrece un espectáculo natural único.\\n\\nEn el norte, la región de la Quebrada de Humahuaca deslumbra con sus cerros multicolores y su rica historia cultural. Los pueblos ancestrales y las tradiciones', ' folklóricas se mantienen vivas en este paisaje declarado Patrimonio de la Humanidad por la UNESCO.\\n\\nLas llanuras pampeanas se extienden en el centro del país, vastas extensiones de tierra fértil dedicadas a la agricultura y la ganadería. El gaucho, figura emblemática de esta región, representa la tradición y la cultura campera argentina.\\n\\nLa Patagonia, en el sur, es una tierra de contrastes, con estepas áridas, bosques fríos, lagos cristalinos y glaciares imponentes. El Parque Nacional Los Glac', 'iares, con el famoso Perito Moreno, atrae a visitantes de todo el mundo.\\n\\nLa fauna argentina es diversa y fascinante, desde el yaguareté en las selvas del norte hasta las ballenas francas australes en las costas patagónicas. Aves como el cóndor andino y el hornero, ave nacional, son símbolos de la naturaleza del país.\\n\\nLa energía renovable está ganando terreno en Argentina, con proyectos eólicos y solares que buscan diversificar la matriz energética y reducir la dependencia de los combustibles f', 'ósiles.\\n\\nLa exploración espacial es un campo en crecimiento en Argentina, con el desarrollo de satélites y la participación en proyectos internacionales. La investigación y el desarrollo en este ámbito son fundamentales para el avance tecnológico del país.\\n\\nLa educación es un pilar fundamental para el desarrollo de Argentina. Se están realizando esfuerzos para mejorar la calidad y la equidad del sistema educativo en todos los niveles.\\n\\nLa salud pública es una prioridad en Argentina, con un siste', 'ma que busca garantizar el acceso a la atención médica a todos los ciudadanos. Se están implementando políticas para fortalecer la prevención y el tratamiento de enfermedades.\\n\\nLa cultura del vino es muy importante en Argentina, especialmente en la región de Mendoza, donde se producen vinos de alta calidad reconocidos a nivel mundial, siendo el Malbec la cepa insignia.\\n\\nEl turismo es una actividad económica clave en Argentina, atrayendo a visitantes interesados en la diversidad de sus paisajes, ', 'su cultura y su historia. Desde las Cataratas del Iguazú hasta las playas de Mar del Plata, el país ofrece una amplia gama de destinos.\\n\\nLa innovación tecnológica es un motor de crecimiento en Argentina, con emprendedores y empresas desarrollando soluciones en áreas como el software, la biotecnología y la inteligencia artificial.\\n\\nLa colaboración internacional es fundamental para abordar los desafíos globales. Argentina participa activamente en foros y organizaciones internacionales para promove', 'r la paz, el desarrollo y la cooperación.\\n\\nEl respeto por los derechos humanos es un valor fundamental en la sociedad argentina. Se han realizado importantes avances en la protección y promoción de los derechos civiles, políticos, económicos, sociales y culturales.\\n\\nLa diversidad cultural es una característica enriquecedora de Argentina, resultado de la inmigración de diferentes partes del mundo a lo largo de su historia. Esta mezcla de culturas se refleja en la gastronomía, la música, el arte y', ' las tradiciones del país.\\n\\nLa participación ciudadana es esencial para fortalecer la democracia. Fomentar el involucramiento de los ciudadanos en los asuntos públicos contribuye a una sociedad más justa y equitativa.\\n\\nLa transparencia y la rendición de cuentas son principios fundamentales para la buena gobernanza. Promover la transparencia en la gestión pública y exigir la rendición de cuentas a los funcionarios son cruciales para combatir la corrupción.\\n\\nEl desarrollo sostenible busca equilibr', 'ar el crecimiento económico con la protección del medio ambiente y el bienestar social. Argentina está implementando políticas para avanzar hacia un modelo de desarrollo más sostenible.\\n\\nLa investigación científica es esencial para generar conocimiento y promover la innovación. El apoyo a la investigación en diversas áreas es fundamental para el desarrollo del país.\\n\\nLa protección del patrimonio cultural es importante para preservar la historia y la identidad de una nación. Argentina cuenta con ', 'numerosos sitios históricos y culturales que son protegidos y valorados.', 'La gravedad es una fuerza fundamental en el universo']\n"
     ]
    }
   ],
   "source": [
    "results = collection.get()\n",
    "\n",
    "print(\"IDs:\", results['ids'])\n",
    "print(\"Documents:\", results['documents'])"
   ]
  },
  {
   "cell_type": "markdown",
   "id": "c5627497",
   "metadata": {},
   "source": [
    "**Realiza una consulta para encontrar documentos similares a la frase: \"Fuerzas naturales que gobiernan el cosmos\".**"
   ]
  },
  {
   "cell_type": "code",
   "execution_count": 32,
   "id": "18c98504",
   "metadata": {},
   "outputs": [
    {
     "name": "stdout",
     "output_type": "stream",
     "text": [
      "📄 Mejor coincidencia: La gravedad es una fuerza fundamental en el universo\n",
      "📁 Fuente: nuevo_documento.txt\n",
      "🆔 ID: 93640ef2-29d7-436f-9e4c-79f2885e766a\n"
     ]
    }
   ],
   "source": [
    "read_example(\"Fuerzas naturales que gobiernan el cosmos\")"
   ]
  },
  {
   "cell_type": "markdown",
   "id": "10c44fba",
   "metadata": {},
   "source": [
    "**¿Qué tipo de operación CRUD usaste primero?**\n",
    "\n",
    "La primera operación consistio en crear un nuevo documento, por tanto fue una operacion de Creacion o CREATE.\n",
    "\n",
    "**¿Cuál es el ID del documento creado? (Usa collection.peek()).**\n",
    "\n",
    "ID: 93640ef2-29d7-436f-9e4c-79f2885e766a\n",
    "\n",
    "**Explica por qué el documento aparece como coincidencia en la consulta.**\n",
    "\n",
    "En realidad, utilizando el modelo planteado en el ejercicio (\"sentence-transformers/all-MiniLM-L6-v2\") el documento introducido recientemente (La gravedad es una fuerza fundamental en el universo) no aparecia en absoluto como una coincidencia. Aparecian en su lugar documentos que no tenian ningún elemento en común con el documento introducido. Realizando una investigación acerca de este problema encontré que el modelo planteado en el ejercicio (\"sentence-transformers/all-MiniLM-L6-v2\") no está entrenado para el idioma Español, por tanto tiene sentido que las coincidencias sean bastante pobres.\n",
    "\n",
    "En lugar del ese modelo, utilicé este otro: \"paraphrase-multilingual-MiniLM-L12-v2\" el cual si se encuentra entrenado para el idioma Español. Luego de volver a crear los embeddings y volver a crear la base de datos, volví a introducir el documento y a realizar al consulta y en este caso devolvió la respuesta esperada, es decir que encontro que la frase de la consulta \"Fuerzas naturales que gobiernan el cosmos\" coincide con el documento \"La gravedad es una fuerza fundamental en el universo\" por que habla del concepto de Fuerza Natural dentro del contexto del cosmos o universo."
   ]
  },
  {
   "cell_type": "markdown",
   "id": "f2c6f6cc",
   "metadata": {},
   "source": [
    "### **Ejercicio 2: Actualizar y Eliminar** ###\n",
    "\n",
    "**Crea un documento con el texto: \"Redes neuronales imitan procesos cerebrales\".**"
   ]
  },
  {
   "cell_type": "code",
   "execution_count": 57,
   "id": "46f08bbc",
   "metadata": {},
   "outputs": [
    {
     "name": "stdout",
     "output_type": "stream",
     "text": [
      "✅ Documento añadido con ID: 33a42fc4-b511-4847-be14-05eb8f1cfb46\n"
     ]
    }
   ],
   "source": [
    "create_example(\"Redes neuronales imitan procesos cerebrales\")"
   ]
  },
  {
   "cell_type": "markdown",
   "id": "ddb7d0a6",
   "metadata": {},
   "source": [
    "**Encuentra su ID, luego actualízalo por: \"Deep Learning es un subcampo de IA con redes neuronales profundas\".**"
   ]
  },
  {
   "cell_type": "code",
   "execution_count": 58,
   "id": "ca38c535",
   "metadata": {},
   "outputs": [
    {
     "name": "stdout",
     "output_type": "stream",
     "text": [
      "Documento encontrado con ID: 33a42fc4-b511-4847-be14-05eb8f1cfb46\n"
     ]
    }
   ],
   "source": [
    "sample = collection.get()\n",
    "\n",
    "sample_doc = \"Redes neuronales imitan procesos cerebrales\"\n",
    "\n",
    "for i, doc in enumerate(sample['documents']):\n",
    "    if doc == sample_doc:\n",
    "        print(f\"Documento encontrado con ID: {sample['ids'][i]}\")\n",
    "        break\n",
    "else:\n",
    "    print(\"Documento no encontrado\")"
   ]
  },
  {
   "cell_type": "code",
   "execution_count": 59,
   "id": "4e620879",
   "metadata": {},
   "outputs": [
    {
     "name": "stdout",
     "output_type": "stream",
     "text": [
      "♻️ Documento actualizado. Nuevo ID: b9c227a7-338e-4e43-be10-1f20cfd9c39b\n"
     ]
    }
   ],
   "source": [
    "update_example(\"33a42fc4-b511-4847-be14-05eb8f1cfb46\", \"Deep Learning es un subcampo de IA con redes neuronales profundas\")"
   ]
  },
  {
   "cell_type": "code",
   "execution_count": 60,
   "id": "934a588a",
   "metadata": {},
   "outputs": [
    {
     "name": "stdout",
     "output_type": "stream",
     "text": [
      "Documento no encontrado\n"
     ]
    }
   ],
   "source": [
    "sample = collection.get()\n",
    "\n",
    "sample_id = \"33a42fc4-b511-4847-be14-05eb8f1cfb46\"\n",
    "\n",
    "for i, doc in enumerate(sample['ids']):\n",
    "    if doc == sample_id:\n",
    "        print(f\"Documento encontrado: {sample['documents'][i]}\")\n",
    "        break\n",
    "else:\n",
    "    print(\"Documento no encontrado\")"
   ]
  },
  {
   "cell_type": "markdown",
   "id": "12ef4bbb",
   "metadata": {},
   "source": [
    "**Elimina el documento original usando el mismo ID.**"
   ]
  },
  {
   "cell_type": "code",
   "execution_count": 61,
   "id": "7bb86b0a",
   "metadata": {},
   "outputs": [
    {
     "name": "stdout",
     "output_type": "stream",
     "text": [
      "🗑️ Documento con ID '33a42fc4-b511-4847-be14-05eb8f1cfb46' eliminado.\n"
     ]
    }
   ],
   "source": [
    "delete_example(\"33a42fc4-b511-4847-be14-05eb8f1cfb46\")"
   ]
  },
  {
   "cell_type": "code",
   "execution_count": 62,
   "id": "d91efbc1",
   "metadata": {},
   "outputs": [
    {
     "name": "stdout",
     "output_type": "stream",
     "text": [
      "Documento no encontrado\n"
     ]
    }
   ],
   "source": [
    "sample = collection.get()\n",
    "\n",
    "sample_id = \"33a42fc4-b511-4847-be14-05eb8f1cfb46\"\n",
    "\n",
    "for i, doc in enumerate(sample['ids']):\n",
    "    if doc == sample_id:\n",
    "        print(f\"Documento encontrado: {sample['documents'][i]}\")\n",
    "        break\n",
    "else:\n",
    "    print(\"Documento no encontrado\")"
   ]
  },
  {
   "cell_type": "markdown",
   "id": "0b086bd5",
   "metadata": {},
   "source": [
    "**¿Qué ocurre si intentas actualizar un documento eliminado?**"
   ]
  },
  {
   "cell_type": "code",
   "execution_count": 63,
   "id": "4b4a8fa6",
   "metadata": {},
   "outputs": [
    {
     "name": "stdout",
     "output_type": "stream",
     "text": [
      "♻️ Documento actualizado. Nuevo ID: 046162d8-0f70-4503-a28b-8f9ab6f28de5\n"
     ]
    }
   ],
   "source": [
    "update_example(\"33a42fc4-b511-4847-be14-05eb8f1cfb46\", \"Intentando actualizar un documento eliminado\")"
   ]
  },
  {
   "cell_type": "code",
   "execution_count": 64,
   "id": "cfb38cac",
   "metadata": {},
   "outputs": [
    {
     "name": "stdout",
     "output_type": "stream",
     "text": [
      "Documento encontrado: Intentando actualizar un documento eliminado\n"
     ]
    }
   ],
   "source": [
    "sample = collection.get()\n",
    "\n",
    "sample_id = \"046162d8-0f70-4503-a28b-8f9ab6f28de5\"\n",
    "\n",
    "for i, doc in enumerate(sample['ids']):\n",
    "    if doc == sample_id:\n",
    "        print(f\"Documento encontrado: {sample['documents'][i]}\")\n",
    "        break\n",
    "else:\n",
    "    print(\"Documento no encontrado\")"
   ]
  },
  {
   "cell_type": "markdown",
   "id": "c60c434d",
   "metadata": {},
   "source": [
    "La actualización se puede completar de forma exitosa. Esto sucede porque cuando un documento es eliminado, Chroma marca el docuemnto como internamente borrado, sin embargo la data del docuemnto no es eliminada de forma inmediata. El documento en cuestion puede de hecho continuar en la base de datos, simplemente no se encuentra indexado para realizar búsquedas."
   ]
  },
  {
   "cell_type": "markdown",
   "id": "d714b36a",
   "metadata": {},
   "source": [
    "**¿Cómo se garantiza la integridad de los datos en las operaciones?**\n",
    "\n",
    "Chroma mantiene una capa de indexación separada para las operaciones de búsquedas y consultas. Esta capa se asegura que solo documentos que no han sido eliminados son utilizados en búsquedas."
   ]
  },
  {
   "cell_type": "markdown",
   "id": "304f7576",
   "metadata": {},
   "source": [
    "### **Ejercicio 3: Errores y Validación** ###\n",
    "\n",
    "**Intenta eliminar un documento con el ID \"no_existe\".**"
   ]
  },
  {
   "cell_type": "code",
   "execution_count": 65,
   "id": "670d5eed",
   "metadata": {},
   "outputs": [
    {
     "name": "stdout",
     "output_type": "stream",
     "text": [
      "🗑️ Documento con ID 'no_existe' eliminado.\n"
     ]
    }
   ],
   "source": [
    "delete_example(\"no_existe\")"
   ]
  },
  {
   "cell_type": "markdown",
   "id": "39846a8d",
   "metadata": {},
   "source": [
    "**Crea un nuevo documento sin usar get_embeddings() (ejemplo: enviar un array vacío).**"
   ]
  },
  {
   "cell_type": "code",
   "execution_count": 66,
   "id": "6f5f9d61",
   "metadata": {},
   "outputs": [
    {
     "ename": "TypeError",
     "evalue": "create_example() missing 1 required positional argument: 'new_doc'",
     "output_type": "error",
     "traceback": [
      "\u001b[31m---------------------------------------------------------------------------\u001b[39m",
      "\u001b[31mTypeError\u001b[39m                                 Traceback (most recent call last)",
      "\u001b[36mCell\u001b[39m\u001b[36m \u001b[39m\u001b[32mIn[66]\u001b[39m\u001b[32m, line 1\u001b[39m\n\u001b[32m----> \u001b[39m\u001b[32m1\u001b[39m \u001b[43mcreate_example\u001b[49m\u001b[43m(\u001b[49m\u001b[43m)\u001b[49m\n",
      "\u001b[31mTypeError\u001b[39m: create_example() missing 1 required positional argument: 'new_doc'"
     ]
    }
   ],
   "source": [
    "create_example()"
   ]
  },
  {
   "cell_type": "markdown",
   "id": "0d909882",
   "metadata": {},
   "source": [
    "**¿Qué errores ocurren en cada caso?**\n",
    "\n",
    "En el caso de eliminar un documento con un ID inexistente, Chroma permite realizar el borrado sin retornar ningún tipo de mensaje de error.\n",
    "\n",
    "Para el caso de crear un documento sin el argumento correspondiente al nombre, en efecto si se retorna un mensaje de error, sin embargo este corresponde mas a la sintaxis de Python que espera un argumento posicional para la funcion \"create_example()\"."
   ]
  },
  {
   "cell_type": "markdown",
   "id": "d0f057bd",
   "metadata": {},
   "source": [
    "**¿Cómo prevenir estos problemas?**\n",
    "\n",
    "En ambos casos se pueden prevenir estos problemas introduciendo mecanismos de validación de las variables de entrada. Adicionalmente a esto, se puede poner cada función que interactua con la base de datos dentro de una sección Try and Except para poder manejar las excepciones donde una variable no válida sea introducida."
   ]
  },
  {
   "cell_type": "markdown",
   "id": "989f4005",
   "metadata": {},
   "source": [
    "### **Ejercicio 4: Consultas por Tema** ###\n",
    "\n",
    "**Crea tres documentos:**\n",
    "- \"Python es ideal para ciencia de datos\"\n",
    "- \"JavaScript maneja interacciones web dinámicas\"\n",
    "- \"Java se usa en aplicaciones empresariales\""
   ]
  },
  {
   "cell_type": "code",
   "execution_count": 67,
   "id": "2724ebb9",
   "metadata": {},
   "outputs": [
    {
     "name": "stdout",
     "output_type": "stream",
     "text": [
      "✅ Documento añadido con ID: f2b02210-a5f0-4f59-bca1-280b12173d31\n"
     ]
    }
   ],
   "source": [
    "create_example(\"Python es ideal para ciencia de datos\")"
   ]
  },
  {
   "cell_type": "code",
   "execution_count": 68,
   "id": "14d4a7ae",
   "metadata": {},
   "outputs": [
    {
     "name": "stdout",
     "output_type": "stream",
     "text": [
      "✅ Documento añadido con ID: f76a6214-1a0d-4871-91f2-fe81e65aaf9b\n"
     ]
    }
   ],
   "source": [
    "create_example(\"JavaScript maneja interacciones web dinámicas\")"
   ]
  },
  {
   "cell_type": "code",
   "execution_count": 69,
   "id": "91f40d56",
   "metadata": {},
   "outputs": [
    {
     "name": "stdout",
     "output_type": "stream",
     "text": [
      "✅ Documento añadido con ID: 18d57d67-cdf9-46a2-bc9d-998084bf28df\n"
     ]
    }
   ],
   "source": [
    "create_example(\"Java se usa en aplicaciones empresariales\")"
   ]
  },
  {
   "cell_type": "markdown",
   "id": "31f1b594",
   "metadata": {},
   "source": [
    "**Realiza una consulta por la frase: \"Lenguajes backend y frontend\".**"
   ]
  },
  {
   "cell_type": "code",
   "execution_count": 70,
   "id": "f3c72772",
   "metadata": {},
   "outputs": [
    {
     "name": "stdout",
     "output_type": "stream",
     "text": [
      "📄 Mejor coincidencia: ecialmente útil para buscar información relevante en grandes colecciones de datos.\n",
      "\n",
      "La consulta de una base de datos vectorial implica buscar los embeddings más cercanos al embedding de la consulta. La distancia entre los embeddings indica la similitud semántica entre los datos.\n",
      "\n",
      "Las aplicaciones de las bases de datos vectoriales son diversas, incluyendo la búsqueda semántica, los sistemas de recomendación, la detección de anomalías y el procesamiento del lenguaje natural.\n",
      "\n",
      "El procesamiento del \n",
      "📁 Fuente: doc1.txt\n",
      "🆔 ID: 45aed722-c976-4f03-b264-5df7adce03cb\n"
     ]
    }
   ],
   "source": [
    "read_example(\"Lenguajes backend y frontend\")"
   ]
  },
  {
   "cell_type": "markdown",
   "id": "3a34971b",
   "metadata": {},
   "source": [
    "**¿Cuáles documentos aparecen como coincidencias?**\n",
    "\n",
    "Los documentos que aparecen como coincidencias corresponden a los documentos con los que inicialmente se creo la base de datos. Es decir que ninguno de los documentos recientemente creados en este ejercicio son encontrados como coincidencias.\n",
    "\n",
    "**Analiza cómo las palabras clave influyen en los resultados.**\n",
    "\n",
    "Aparentemente, la palabra \"Lenguaje\" no resulta ser asociada a los nombres de lenguajes como \"Python\" o \"JavaScript\" por ejemplo. Se observa que los resultados guardan relacion más con la palabra \"backend\", esto porque lo detallado en cada uno de los documentos de la respuesta coincide con las descripciones de las funciones del backend.\n",
    "\n",
    "Resulta curioso que el modelo no vincule \"Lenguajes\" con \"Python\", \"Java\" o \"JavaScript\", quizás sean necesarias mas referencias que vinculen los lenguajes de programación con la palabra \"Lenguaje\"."
   ]
  },
  {
   "cell_type": "markdown",
   "id": "488b05e4",
   "metadata": {},
   "source": [
    "### **Ejercicio 5: Eliminaciones Selectivas** ###\n",
    "\n",
    "**Crea dos documentos con tópicos opuestos (ejemplo: uno sobre \"Ecología\" y otro sobre \"Minería de datos\").**\n",
    "\n",
    "**Elimina el documento sobre ecología usando su ID.**\n",
    "\n",
    "**Verifica que solo quede un documento.**\n",
    "\n",
    "**¿Cómo usar collection.count() para confirmar? 2**\n"
   ]
  },
  {
   "cell_type": "markdown",
   "id": "1d506733",
   "metadata": {},
   "source": [
    "### **Ejercicio 6: Actualización en Cadena** ###\n",
    "\n",
    "**Crea un documento con el texto \"IA y ética son temas actuales\".**\n",
    "\n",
    "**Actualízalo dos veces:**\n",
    "\n",
    "**Primera actualización: \"Ética en IA aborda dilemas morales\"**\n",
    "\n",
    "**Segunda actualización: \"El uso de IA debe estar regulado por principios éticos\".**\n",
    "\n",
    "**¿Cómo sigue evolucionando el contenido del documento con cada update?**"
   ]
  },
  {
   "cell_type": "markdown",
   "id": "6a10e0cb",
   "metadata": {},
   "source": [
    "### **Ejercicio 7: Consultas Ambiguas** ###\n",
    "\n",
    "**Crea dos documentos similares pero no idénticos:**\n",
    "\n",
    "**\"Blockchain garantiza transacciones seguras\"**\n",
    "\n",
    "**\"Criptomonedas usan tecnología blockchain\".**\n",
    "\n",
    "**Realiza una consulta por \"Seguridad en finanzas digitales\".**\n",
    "\n",
    "**¿Ambos documentos aparecen? Explica la similitud semántica.**"
   ]
  },
  {
   "cell_type": "markdown",
   "id": "2a43b67a",
   "metadata": {},
   "source": [
    "### **Ejercicio 8: Reiniciar Base de Datos** ###\n",
    "\n",
    "**Elimina todos los documentos usando delete() con el parámetro correcto.**\n",
    "\n",
    "**Vuelve a cargar la base desde cero con crear_base_datos().**\n",
    "\n",
    "**¿Cuántos documentos hay ahora? (Usa collection.count()).**\n"
   ]
  },
  {
   "cell_type": "markdown",
   "id": "438c9c64",
   "metadata": {},
   "source": [
    "### **Ejercicio 9: Errores de Inserción** ###\n",
    "\n",
    "**Intenta crear un documento sin texto (ejemplo: cadena vacía).**\n",
    "\n",
    "**Corrige el error usando la función get_embeddings().**\n",
    "\n",
    "**¿Qué lección aprendemos sobre los requisitos de ChromaDB?**"
   ]
  },
  {
   "cell_type": "markdown",
   "id": "441300a4",
   "metadata": {},
   "source": []
  }
 ],
 "metadata": {
  "kernelspec": {
   "display_name": "venv-BDIA",
   "language": "python",
   "name": "python3"
  },
  "language_info": {
   "codemirror_mode": {
    "name": "ipython",
    "version": 3
   },
   "file_extension": ".py",
   "mimetype": "text/x-python",
   "name": "python",
   "nbconvert_exporter": "python",
   "pygments_lexer": "ipython3",
   "version": "3.11.4"
  }
 },
 "nbformat": 4,
 "nbformat_minor": 5
}
